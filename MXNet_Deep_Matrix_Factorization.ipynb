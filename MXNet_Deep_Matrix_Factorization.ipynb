{
 "cells": [
  {
   "cell_type": "markdown",
   "metadata": {},
   "source": [
    "## Deep Matrix Factorization Using Apache MXNet: The Engine for a Better Recommendation Engine\n",
    "\n",
    "Recommendation engines are widely used models that attempt to identify items that a person will like based on that person's past behavior. We're all familiar with Amazon's recommendations based on your past purchasing history, and Netflix recommending shows to you based on your history and the ratings you've given other shows. Naturally, machine learning is behind many of these systems. In this tutorial we will delve into how to use machine learning to build these recommender systems, and specifically how to implement a technique called matrix factorization using Apache MXNet. It presumes basic familiarity with MXNet.\n",
    "\n",
    "The [Netflix Prize](https://en.wikipedia.org/wiki/Netflix_Prize) is likely the most famous example many data scientists explored in detail for matrix factorization. Simply put, the challenge was to predict a viewer's rating of shows that they hadn't yet watched based on their ratings of shows that they had watched in the past, as well as the ratings that other viewers had given a show. This takes the form of a matrix where the rows are users, the columns are shows, and the values in the matrix correspond to the rating of the show. Most of the values in this matrix are missing, as users have not rated (or seen) the majority of shows. Below is an illustrative example of what this data tends to look like, where ratings are shown in purple and missing values are denoted in white.\n",
    "\n",
    "<img src=\"mf_matrix.png\" height=\"400\" width=\"400\">\n",
    "\n",
    "The best techniques for filling in these missing values can vary depending on how sparse the matrix is. If there are not many missing values then frequently the mean or median value of the observed values can be used to fill in the missing values. If the data is categorical, as opposed to numeric, the most frequently observed value is used to fill in the missing values. This technique, while simple and fast, is fairly naive as it misses the interactions that can happen between the variables in a dataset. Most egregiously, if the data is numeric and _bimodal_ between two distant values, the mean imputation method can create values that otherwise would not exist in the dataset at all. These improper imputed values increase the noise in the dataset the sparser it is, so this becomes an increasingly bad strategy as sparsity increases. \n",
    "\n",
    "Matrix factorization is a simple idea that tries to learn connections between the known values in order to impute the missing values in a smart fashion. Simply put, for each row and for each column it learns $k$ numeric \"factors\" that represent the row or column. In the example of the Netflix challenge, the factors for movies could correspond to \"is this a comedy?\" or \"is a big name actor/actress in this movie?\" The factors for users might correspond to \"does this user like comedies?\" and \"does this user like this actor/actress?\" Ratings are then determined by a dot product between these two smaller matrices (the user factors and the movie factors) such that an individual prediction for how user $i$ will rate movie $j$ is calculated by\n",
    "\n",
    "\\begin{equation}\n",
    "rating_{i, j} = \\sum\\limits_{l=1}^{k} user_{i, l} \\cdot movie_{j, l}\n",
    "\\end{equation}\n",
    "\n",
    "This would line up the user factor \"does this user like comedies?\" with the movie factor \"is this a comedy?\" and give a boost if both were positive.\n",
    "\n",
    "It is impractical to pre-assign meaning to these factors at large scale; rather, we need to learn the values directly from data. Once these factors are learned using the observational data, a simple dot product between the matrices can allow one to fill in all of the missing values. If two movies are similar to each other, they will have likely have similar factors, and their corresponding matrix columns will have similar values. The upside to this approach is that an informative set of factors can be learned automatically from data, but the downside is that the meaning of these factors might not be easily interpretable. This may or may not be an issue for your application. Below shows the two steps in this approach. On the left is the training step, where the factors are learned using the observed data, and on the right is the prediction step, where the missing values are imputed using the dot product between the two factor matrices.\n",
    "\n",
    "<img src=\"mf_matrix_factors.png\" height=\"500\" width=\"800\">\n",
    "\n",
    "Matrix factorization is a linear method, meaning that if there are complicated non-linear interactions going on in the dataset, a simple dot product may not be able to handle it well. Given the recent success of deep learning in complicated non-linear computer vision and natural language processing tasks, it is natural to want to find a way to incorporate it into matrix factorization as well. A way to do this is called \"deep matrix factorization\" and involves the replacement of the dot product with a neural network that is trained jointly with the factors. This makes the model more powerful because a neural network can model important non-linear combinations of factors to make better predictions.\n",
    "\n",
    "Below is a comparison of the two methods.\n",
    "\n",
    "<img src=\"mf_dmf_comparison.png\" height=\"300\" width=\"600\">\n",
    "\n",
    "In traditional matrix factorization the prediction is the simple dot product between the factors for each of the dimensions. In contrast, in deep matrix factorization the factors for both are concatenated together and used as the input to a neural network whose output is the prediction. The parameters in the neural network are then trained jointly with the factors to produce a sophisticated non-linear model for matrix factorization. \n",
    "\n",
    "This tutorial will first introduce both traditional and deep matrix factorization by using them to model synthetic data. We will then move on to a real world example, and apply these concepts to model the MovieLens 20M dataset, which is conceptually identical to the Netflix Prize challenge. Lastly, we'll explore how one can use recent advances in deep learning and the flexibility of neural networks to build even more complex models. While this may sound complicated, fortunately Apache MXNet makes it easy!"
   ]
  },
  {
   "cell_type": "code",
   "execution_count": 1,
   "metadata": {},
   "outputs": [
    {
     "name": "stdout",
     "output_type": "stream",
     "text": [
      "Populating the interactive namespace from numpy and matplotlib\n"
     ]
    }
   ],
   "source": [
    "%pylab inline\n",
    "import mxnet as mx\n",
    "import pandas\n",
    "import seaborn; seaborn.set_style('whitegrid')\n",
    "import logging\n",
    "logger = logging.getLogger()\n",
    "logger.setLevel(logging.DEBUG)"
   ]
  },
  {
   "cell_type": "markdown",
   "metadata": {},
   "source": [
    "## Matrix Factorization on Synthetic Data"
   ]
  },
  {
   "cell_type": "markdown",
   "metadata": {},
   "source": [
    "Let's start off by playing with some randomly generated values. For simpliciy, let's generate a small matrix of values that are all normally distributed representing 250 \"users\" and 250 \"movies\"."
   ]
  },
  {
   "cell_type": "code",
   "execution_count": 2,
   "metadata": {
    "collapsed": true
   },
   "outputs": [],
   "source": [
    "X = numpy.random.randn(250, 250)"
   ]
  },
  {
   "cell_type": "markdown",
   "metadata": {},
   "source": [
    "$X$ is currently a complete matrix, meaning that there are no missing values. We will first need to remove a subset of values from the matrix. The best way to use MXNet for this task isn't to operate on a matrix of values, but rather to transform the data into a tuple—(row, col, value)—so prediction means predicting a single value in the matrix instead of the entire matrix. Fortunately, we can accomplish both tasks simultaneously in Python by randomly generating row indices and column indices, and then extracting the values from the matrix. We may get some duplicates using this method, but it shouldn't matter too much in the grand scheme of things."
   ]
  },
  {
   "cell_type": "code",
   "execution_count": 3,
   "metadata": {},
   "outputs": [
    {
     "name": "stdout",
     "output_type": "stream",
     "text": [
      "(35000,)\n"
     ]
    }
   ],
   "source": [
    "n = 35000\n",
    "i = numpy.random.randint(250, size=n)\n",
    "j = numpy.random.randint(250, size=n)\n",
    "X_values = X[i, j]\n",
    "print(X_values.shape)"
   ]
  },
  {
   "cell_type": "markdown",
   "metadata": {},
   "source": [
    "We can see that by selecting out a subset of the values (selecting 35,000 from the 250 * 250 = 62,500 matrix), we've gone from a matrix with two dimensions to a vector with only a single dimension. We can plot a histogram of the observed values in the matrix to get a better sense of the distribution."
   ]
  },
  {
   "cell_type": "code",
   "execution_count": 4,
   "metadata": {},
   "outputs": [
    {
     "name": "stderr",
     "output_type": "stream",
     "text": [
      "/Users/tmcgovern/Anaconda/anaconda/envs/py3k/lib/python3.4/site-packages/IPython/core/formatters.py:92: DeprecationWarning: DisplayFormatter._ipython_display_formatter_default is deprecated: use @default decorator instead.\n",
      "  def _ipython_display_formatter_default(self):\n",
      "/Users/tmcgovern/Anaconda/anaconda/envs/py3k/lib/python3.4/site-packages/IPython/core/formatters.py:669: DeprecationWarning: PlainTextFormatter._singleton_printers_default is deprecated: use @default decorator instead.\n",
      "  def _singleton_printers_default(self):\n"
     ]
    },
    {
     "data": {
      "image/png": "[encoded data removed]",
      "text/plain": [
       "<matplotlib.figure.Figure at 0x1115f6d68>"
      ]
     },
     "metadata": {},
     "output_type": "display_data"
    }
   ],
   "source": [
    "plt.title(\"Distribution of Data in Matrix\", fontsize=16)\n",
    "plt.ylabel(\"Count\", fontsize=14)\n",
    "plt.xlabel(\"Value\", fontsize=14)\n",
    "plt.hist(X_values, bins=100)\n",
    "plt.show()"
   ]
  },
  {
   "cell_type": "markdown",
   "metadata": {},
   "source": [
    "As expected, it appears to be a normal distribution that is centered around 0 with a variance of 1."
   ]
  },
  {
   "cell_type": "markdown",
   "metadata": {},
   "source": [
    "A core component of the matrix factorization model will be the embedding layer. This layer takes in an integer and outputs a dense array of learned features. This is widely used in natural language processing, where the input would be words, and the output might be the features related to that words' sentiment. The strength of this layer is the ability for the network to learn what useful features are instead of needing them to be predefined. Below is an illustrative example of the output of a two dimensional embedding layer. We can see that on the left words that mean similar things cluster together, such as languages towards the top and positive words near the bottom. One can do a similar thing for movies (on the right) and observe that comedies seem to cluster towards the center and sci-fi clusters closer to the bottom. This is useful for our model because if we learn that a user likes one comedy, we can infer that they will have a higher ranking for another comedy based on their co-localization in this embedding space.\n",
    "\n",
    "<img src=\"embeddings.png\" height=\"500\" width=\"800\">\n",
    "\n",
    "In our implementation, the input dimension of the embedding layer is 250 because there are 250 rows and columns in the data we generated, and the output dimension is set to 25 in order to learn a lower dimensional representation of size 25. This can be set as high or low as desired, with a higher dimensional feature space potentially being more powerful but slower to learn, and potentially prone to overfitting as the model has more parameters."
   ]
  },
  {
   "cell_type": "code",
   "execution_count": 5,
   "metadata": {
    "collapsed": true
   },
   "outputs": [],
   "source": [
    "user = mx.symbol.Variable(\"user\")\n",
    "user = mx.symbol.Embedding(data=user, input_dim=250, output_dim=25)\n",
    "\n",
    "movie = mx.symbol.Variable(\"movie\")\n",
    "movie = mx.symbol.Embedding(data=movie, input_dim=250, output_dim=25)\n",
    "\n",
    "y_true = mx.symbol.Variable(\"softmax_label\")\n",
    "y_pred = mx.symbol.sum_axis(data=(user * movie), axis=1)\n",
    "y_pred = mx.symbol.flatten(y_pred)\n",
    "y_pred = mx.symbol.LinearRegressionOutput(data=y_pred, label=y_true)"
   ]
  },
  {
   "cell_type": "markdown",
   "metadata": {},
   "source": [
    "We just implemented vanilla matrix factorization! It is a fairly simple model when expressed this way. All we need to do is define an embedding layer for the users and one for the movies, then define the dot product between these two layers as the prediction. Keep in mind that while we've used MXNet to implement this model, it does not yet utilize a deep neural network.\n",
    "\n",
    "We next need to convert our data from the form of three vectors (the row ids, column ids, and values) into an appropriate iterator that MXNet can use. Since we have multiple inputs (the movie and the user), the `NDArrayIter` object is the most convenient as it can handle arbitrary inputs and outputs through the use of dictionaries. By considering this problem on a single rating granularity instead of as the full matrix, we can transform the problem fairly simply into a supervised learning problem that plays well with the MXNet framework!"
   ]
  },
  {
   "cell_type": "code",
   "execution_count": 6,
   "metadata": {
    "collapsed": true
   },
   "outputs": [],
   "source": [
    "X_train = mx.io.NDArrayIter({'user': i[:25000], 'movie': j[:25000]}, label=X_values[:25000], batch_size=1000)\n",
    "X_eval = mx.io.NDArrayIter({'user': i[25000:], 'movie': j[25000:]}, label=X_values[25000:], batch_size=1000)"
   ]
  },
  {
   "cell_type": "markdown",
   "metadata": {},
   "source": [
    "We aren't quite done yet. We've only defined the symbolic architecture of the network. We now need to specify that the architecture is a model to be trained using the `Module` wrapper. We first define the context that the network will live on, either the CPU or GPU, the names of the inputs, and the final symbol in the network. In this tutorial we will use the CPU to train the network, but one could easily swap in a GPU using `mx.gpu(0)`, or many GPUs by passing in a list such as `[mx.gpu(0), mx.gpu(1)]`. Given that the examples that we are dealing with in this tutorial are fairly simple and don't involve convolutional layers, we won't need to harness to increased speed of a GPU."
   ]
  },
  {
   "cell_type": "code",
   "execution_count": 7,
   "metadata": {
    "collapsed": true
   },
   "outputs": [],
   "source": [
    "model = mx.module.Module(context=mx.cpu(), data_names=('user', 'movie'), symbol=y_pred)"
   ]
  },
  {
   "cell_type": "markdown",
   "metadata": {},
   "source": [
    "Next we need to fit the network using the `fit` function, similar to scikit-learn and other popular machine learning packages. We can specify the number of epochs that we would like to train for, the validation set data through `eval_data`, and the metric used to evaluate both the training and validation sets during training. In this case we choose root mean squared error (rmse), which is a common choice in regression problems such as this—it penalizes large errors more than small ones. This makes sense in a recommendation context, where offering a user something slightly unexpected may be a virtue, but getting a recommendation totally wrong will be off-putting to your user. "
   ]
  },
  {
   "cell_type": "code",
   "execution_count": 8,
   "metadata": {},
   "outputs": [
    {
     "name": "stderr",
     "output_type": "stream",
     "text": [
      "INFO:root:Epoch[0] Train-rmse=1.009686\n",
      "INFO:root:Epoch[0] Time cost=0.077\n",
      "INFO:root:Epoch[0] Validation-rmse=1.014206\n",
      "INFO:root:Epoch[1] Train-rmse=1.009686\n",
      "INFO:root:Epoch[1] Time cost=0.085\n",
      "INFO:root:Epoch[1] Validation-rmse=1.014206\n",
      "INFO:root:Epoch[2] Train-rmse=1.009686\n",
      "INFO:root:Epoch[2] Time cost=0.071\n",
      "INFO:root:Epoch[2] Validation-rmse=1.014206\n",
      "INFO:root:Epoch[3] Train-rmse=1.009686\n",
      "INFO:root:Epoch[3] Time cost=0.046\n",
      "INFO:root:Epoch[3] Validation-rmse=1.014206\n",
      "INFO:root:Epoch[4] Train-rmse=1.009686\n",
      "INFO:root:Epoch[4] Time cost=0.035\n",
      "INFO:root:Epoch[4] Validation-rmse=1.014206\n"
     ]
    }
   ],
   "source": [
    "model.fit(X_train, num_epoch=5, eval_metric='rmse', eval_data=X_eval)"
   ]
  },
  {
   "cell_type": "markdown",
   "metadata": {},
   "source": [
    "It doesn't really seem like it's training because the validation mean squared error is not changing epoch by epoch. This is because in the dataset we randomly generated there was no connection between the values in the matrix that could be exploited by a machine learning model—we just generated random values with no dependence on each other, and then blanked many of them out. The \"movie watchers\" don't have any preferences, they just randomly like or don't like movies! It would be impossible to predict what these values are using matrix factorization. This is a key concept to keep in mind-- if you don't believe there is any connection between the values that are observed and the values that are missing, it will be impossible to predict the missing values solely from the observed ones.\n",
    "\n",
    "Let's now create some synthetic data that has structure that can be exploited instead of evenly distributed random values. We can do this by first randomly generated two lower rank matrices, one for the rows and one for the columns, and taking the dot product between them. This essentially mirrors the matrix factorization task by saying that there is a lower dimensional structure that our model can learn to be a good predictor of missing values."
   ]
  },
  {
   "cell_type": "code",
   "execution_count": 9,
   "metadata": {
    "collapsed": true
   },
   "outputs": [],
   "source": [
    "a = numpy.random.normal(0, 1, size=(250, 25))\n",
    "b = numpy.random.normal(0, 1, size=(25, 250))\n",
    "\n",
    "X = a.dot(b)\n",
    "\n",
    "n = 35000\n",
    "i = numpy.random.randint(250, size=n)\n",
    "j = numpy.random.randint(250, size=n)\n",
    "X_values = X[i, j]\n",
    "\n",
    "X_train = mx.io.NDArrayIter({'user': i[:25000], 'movie': j[:25000]}, label=X_values[:25000], batch_size=100)\n",
    "X_eval = mx.io.NDArrayIter({'user': i[25000:], 'movie': j[25000:]}, label=X_values[25000:], batch_size=100)"
   ]
  },
  {
   "cell_type": "markdown",
   "metadata": {},
   "source": [
    "Let's take a look at the distribution of data like before by plotting a histogram of the values in this matrix."
   ]
  },
  {
   "cell_type": "code",
   "execution_count": 10,
   "metadata": {},
   "outputs": [
    {
     "data": {
      "image/png": "[encoded data removed]",
      "text/plain": [
       "<matplotlib.figure.Figure at 0x112131da0>"
      ]
     },
     "metadata": {},
     "output_type": "display_data"
    }
   ],
   "source": [
    "plt.title(\"Distribution of Data in Matrix\", fontsize=16)\n",
    "plt.ylabel(\"Count\", fontsize=14)\n",
    "plt.xlabel(\"Value\", fontsize=14)\n",
    "plt.hist(X_values, bins=100)\n",
    "plt.show()"
   ]
  },
  {
   "cell_type": "markdown",
   "metadata": {},
   "source": [
    "It looks like another normal distribution, except with a larger variance. This makes sense theoretically, because the dot product of two matrices of normally distributed values is also normally distributed. "
   ]
  },
  {
   "cell_type": "markdown",
   "metadata": {},
   "source": [
    "Now that we've created this new dataset and the appropriate iterators, we can create the model again and try to learn something."
   ]
  },
  {
   "cell_type": "code",
   "execution_count": 11,
   "metadata": {},
   "outputs": [
    {
     "name": "stderr",
     "output_type": "stream",
     "text": [
      "INFO:root:Epoch[0] Train-mse=24.250952\n",
      "INFO:root:Epoch[0] Time cost=0.206\n",
      "INFO:root:Epoch[0] Validation-mse=24.078770\n",
      "INFO:root:Epoch[1] Train-mse=24.250941\n",
      "INFO:root:Epoch[1] Time cost=0.238\n",
      "INFO:root:Epoch[1] Validation-mse=24.078767\n",
      "INFO:root:Epoch[2] Train-mse=24.250929\n",
      "INFO:root:Epoch[2] Time cost=0.149\n",
      "INFO:root:Epoch[2] Validation-mse=24.078764\n",
      "INFO:root:Epoch[3] Train-mse=24.250918\n",
      "INFO:root:Epoch[3] Time cost=0.188\n",
      "INFO:root:Epoch[3] Validation-mse=24.078761\n",
      "INFO:root:Epoch[4] Train-mse=24.250907\n",
      "INFO:root:Epoch[4] Time cost=0.199\n",
      "INFO:root:Epoch[4] Validation-mse=24.078758\n"
     ]
    }
   ],
   "source": [
    "model = mx.module.Module(context=mx.cpu(), data_names=('user', 'movie'), symbol=y_pred)\n",
    "model.fit(X_train, num_epoch=5, eval_metric='mse', eval_data=X_eval)"
   ]
  },
  {
   "cell_type": "markdown",
   "metadata": {},
   "source": [
    "It doesn't seem like we're learning anything again because neither the training nor the validation mse goes down epoch by epoch! The problem this time is that, like many matrix factorization algorithms, we are using stochastic gradient descent (SGD) which is tricky to set an appropriate learning rate for. However, since we've implemented matrix factorization using Apache MXNet we can easily use a different optimizer. [Adam](https://en.wikipedia.org/wiki/Stochastic_gradient_descent#Adam) is a popular optimizer that can automatically tune the learning rate to get better results, and we can specify that we want to use it by adding in `optimizer='adam'` to the `fit` function."
   ]
  },
  {
   "cell_type": "code",
   "execution_count": 12,
   "metadata": {},
   "outputs": [
    {
     "name": "stderr",
     "output_type": "stream",
     "text": [
      "INFO:root:Epoch[0] Train-mse=23.469048\n",
      "INFO:root:Epoch[0] Time cost=0.273\n",
      "INFO:root:Epoch[0] Validation-mse=21.070660\n",
      "INFO:root:Epoch[1] Train-mse=15.098957\n",
      "INFO:root:Epoch[1] Time cost=0.229\n",
      "INFO:root:Epoch[1] Validation-mse=14.016162\n",
      "INFO:root:Epoch[2] Train-mse=8.175886\n",
      "INFO:root:Epoch[2] Time cost=0.226\n",
      "INFO:root:Epoch[2] Validation-mse=10.487469\n",
      "INFO:root:Epoch[3] Train-mse=5.157359\n",
      "INFO:root:Epoch[3] Time cost=0.218\n",
      "INFO:root:Epoch[3] Validation-mse=8.288769\n",
      "INFO:root:Epoch[4] Train-mse=3.552385\n",
      "INFO:root:Epoch[4] Time cost=0.232\n",
      "INFO:root:Epoch[4] Validation-mse=6.721521\n"
     ]
    }
   ],
   "source": [
    "model = mx.module.Module(context=mx.cpu(), data_names=('user', 'movie'), symbol=y_pred)\n",
    "model.fit(X_train, num_epoch=5, optimizer='adam', eval_metric='mse', eval_data=X_eval)"
   ]
  },
  {
   "cell_type": "markdown",
   "metadata": {},
   "source": [
    "That is much better! It looks like we are able to get significantly improved results using the Adam optimizer rather than SGD. It also appears that the model is able to perform extremely well on a validation set. This is likely because the task is fairly easy: we synthetically created our dataset without noise from a low dimensional representation, and then learned that representation using matrix factorization.\n",
    "\n",
    "Let's now take a look at what deep matrix factorization would look like. Essentially, we want to replace the dot product that turns the factors into a prediction with a neural network that takes in the factors as input and predicts the output. We can modify the model code fairly simply to achieve this."
   ]
  },
  {
   "cell_type": "code",
   "execution_count": 13,
   "metadata": {},
   "outputs": [
    {
     "name": "stderr",
     "output_type": "stream",
     "text": [
      "INFO:root:Epoch[0] Train-mse=24.251155\n",
      "INFO:root:Epoch[0] Time cost=0.386\n",
      "INFO:root:Epoch[0] Validation-mse=24.073365\n",
      "INFO:root:Epoch[1] Train-mse=24.069941\n",
      "INFO:root:Epoch[1] Time cost=0.346\n",
      "INFO:root:Epoch[1] Validation-mse=23.996876\n",
      "INFO:root:Epoch[2] Train-mse=23.561898\n",
      "INFO:root:Epoch[2] Time cost=0.367\n",
      "INFO:root:Epoch[2] Validation-mse=23.830399\n",
      "INFO:root:Epoch[3] Train-mse=23.010173\n",
      "INFO:root:Epoch[3] Time cost=0.335\n",
      "INFO:root:Epoch[3] Validation-mse=23.646338\n",
      "INFO:root:Epoch[4] Train-mse=22.609636\n",
      "INFO:root:Epoch[4] Time cost=0.321\n",
      "INFO:root:Epoch[4] Validation-mse=23.523100\n"
     ]
    }
   ],
   "source": [
    "user = mx.symbol.Variable(\"user\")\n",
    "user = mx.symbol.Embedding(data=user, input_dim=250, output_dim=25)\n",
    "\n",
    "movie = mx.symbol.Variable(\"movie\")\n",
    "movie = mx.symbol.Embedding(data=movie, input_dim=250, output_dim=25)\n",
    "\n",
    "y_true = mx.symbol.Variable(\"softmax_label\")\n",
    "\n",
    "# No longer using a dot product\n",
    "#y_pred = mx.symbol.sum_axis(data=(user * movie), axis=1)\n",
    "#y_pred = mx.symbol.flatten(y_pred)\n",
    "#y_pred = mx.symbol.LinearRegressionOutput(data=y_pred, label=y_true)\n",
    "\n",
    "# Now using a neural network\n",
    "nn = mx.symbol.concat(user, movie)\n",
    "nn = mx.symbol.flatten(nn)\n",
    "nn = mx.symbol.FullyConnected(data=nn, num_hidden=64)\n",
    "nn = mx.symbol.Activation(data=nn, act_type='relu')\n",
    "nn = mx.symbol.FullyConnected(data=nn, num_hidden=1)\n",
    "\n",
    "y_pred = mx.symbol.LinearRegressionOutput(data=nn, label=y_true)\n",
    "\n",
    "model = mx.module.Module(context=mx.cpu(), data_names=('user', 'movie'), symbol=y_pred)\n",
    "model.fit(X_train, num_epoch=5, optimizer='adam', optimizer_params=(('learning_rate', 0.001),), \n",
    "          eval_metric='mse', eval_data=X_eval)"
   ]
  },
  {
   "cell_type": "markdown",
   "metadata": {},
   "source": [
    "The only difference to our code is that we have to define a neural network. The inputs to this network are the concatenated factors from the embedding layer, created using `mx.symbol.concat`. Next, we flatten the result just to ensure the right shape using `mx.symbol.flatten`. and then use `mx.symbol.FullyConnected` and `mx.symbol.Activation` layers as necessary to define the network. The final fully connected layer must have a single node, as this is the final prediction that the network is making.\n",
    "\n",
    "We can see that while the neural network is clearly training due to the validation mse decreasing after each epoch, it is not decreasing as quickly as normal matrix factorization. The optimal learning parameters are almost always different between the two due to the neural network's added complexity. In this tutorial we won't pursue the optimal values for hyperparameters like learning rate or weight decay, but instead focus structurally on the things you can do with deep matrix factorization."
   ]
  },
  {
   "cell_type": "markdown",
   "metadata": {},
   "source": [
    "## MovieLens 20M\n",
    "\n",
    "Now let's move on to a real example using the MovieLens 20M dataset. This data is comprised of movie ratings from the MovieLens site (<a href=\"https://movielens.org/\">https://movielens.org/</a>), a site that will predict what other movies you will like after seeing you rate movies. The MovieLens 20M dataset is a sampling of ~20 million ratings from ~138 thousand users on ~27 thousand movies. The ratings range from 0.5 to 5 stars in 0.5 star increments.\n",
    "\n",
    "<b>NOTE</b>: Given that we are about to train neural networks on millions of samples, the following cells may take some time to execute on a CPU and may produce a lot of output. At least 6GB of RAM is suggested for running the cells. If you have a GPU or a cloud environment, now would be the time to use it (you can stand up an [AWS Machine Image](https://aws.amazon.com/amazon-ai/amis/) for deep learning fairly straightforwardly, for example). \n",
    "\n",
    "Let's first load up the data and inspect it manually."
   ]
  },
  {
   "cell_type": "code",
   "execution_count": 14,
   "metadata": {},
   "outputs": [
    {
     "data": {
      "text/html": [
       "<div>\n",
       "<table border=\"1\" class=\"dataframe\">\n",
       "  <thead>\n",
       "    <tr style=\"text-align: right;\">\n",
       "      <th></th>\n",
       "      <th>userId</th>\n",
       "      <th>movieId</th>\n",
       "      <th>rating</th>\n",
       "    </tr>\n",
       "  </thead>\n",
       "  <tbody>\n",
       "    <tr>\n",
       "      <th>0</th>\n",
       "      <td>1</td>\n",
       "      <td>2</td>\n",
       "      <td>3.5</td>\n",
       "    </tr>\n",
       "    <tr>\n",
       "      <th>1</th>\n",
       "      <td>1</td>\n",
       "      <td>29</td>\n",
       "      <td>3.5</td>\n",
       "    </tr>\n",
       "    <tr>\n",
       "      <th>2</th>\n",
       "      <td>1</td>\n",
       "      <td>32</td>\n",
       "      <td>3.5</td>\n",
       "    </tr>\n",
       "    <tr>\n",
       "      <th>3</th>\n",
       "      <td>1</td>\n",
       "      <td>47</td>\n",
       "      <td>3.5</td>\n",
       "    </tr>\n",
       "    <tr>\n",
       "      <th>4</th>\n",
       "      <td>1</td>\n",
       "      <td>50</td>\n",
       "      <td>3.5</td>\n",
       "    </tr>\n",
       "  </tbody>\n",
       "</table>\n",
       "</div>"
      ],
      "text/plain": [
       "   userId  movieId  rating\n",
       "0       1        2     3.5\n",
       "1       1       29     3.5\n",
       "2       1       32     3.5\n",
       "3       1       47     3.5\n",
       "4       1       50     3.5"
      ]
     },
     "execution_count": 14,
     "metadata": {},
     "output_type": "execute_result"
    }
   ],
   "source": [
    "import os\n",
    "import urllib.request\n",
    "import zipfile\n",
    "\n",
    "if not os.path.exists('ml-20m.zip'):\n",
    "    urllib.request.urlretrieve('http://files.grouplens.org/datasets/movielens/ml-20m.zip', 'ml-20m.zip')\n",
    "with zipfile.ZipFile(\"ml-20m.zip\", \"r\") as f:\n",
    "    f.extractall(\"./\")\n",
    "\n",
    "data = pandas.read_csv('./ml-20m/ratings.csv', sep=',', usecols=(0, 1, 2))\n",
    "data.head()"
   ]
  },
  {
   "cell_type": "markdown",
   "metadata": {},
   "source": [
    "It looks like there are slightly over 20M ratings that comprise a user ID, a movie ID, and a rating in 0.5 star increments. Each one of these rows will be a sample to train on, as we want our model to take in a user and a movie and predict the rating that user would give to that movie. Let's take a look at the distribution of ratings before moving on."
   ]
  },
  {
   "cell_type": "code",
   "execution_count": 15,
   "metadata": {},
   "outputs": [
    {
     "data": {
      "image/png": "[encoded data removed]",
      "text/plain": [
       "<matplotlib.figure.Figure at 0x11210d908>"
      ]
     },
     "metadata": {},
     "output_type": "display_data"
    }
   ],
   "source": [
    "plt.hist(data['rating'])\n",
    "plt.xlabel(\"Rating\", fontsize=14)\n",
    "plt.ylabel(\"Count\", fontsize=14)\n",
    "plt.title(\"Distribution of Ratings in MovieLens 20M\", fontsize=14)\n",
    "plt.show()"
   ]
  },
  {
   "cell_type": "markdown",
   "metadata": {},
   "source": [
    "It looks like this is fairly normal distribution, with the most ratings being that a movie was good but not amazing, and the fewest ratings that movies were very poor. It also seems like people were more reluctant to rate a movie using one of the half star increments than with the full star increments. \n",
    "\n",
    "Let's next quickly look at the users and movies. Specifically, let's look at the maximum and minimum id values, and the number of unique users and movies."
   ]
  },
  {
   "cell_type": "code",
   "execution_count": 16,
   "metadata": {},
   "outputs": [
    {
     "name": "stdout",
     "output_type": "stream",
     "text": [
      "user id min/max:  1 138493\n",
      "# unique users:  138493\n",
      "\n",
      "movie id min/max:  1 131262\n",
      "# unique movies:  26744\n"
     ]
    }
   ],
   "source": [
    "print(\"user id min/max: \", data['userId'].min(), data['userId'].max())\n",
    "print(\"# unique users: \", numpy.unique(data['userId']).shape[0])\n",
    "print(\"\")\n",
    "print(\"movie id min/max: \", data['movieId'].min(), data['movieId'].max())\n",
    "print(\"# unique movies: \", numpy.unique(data['movieId']).shape[0])"
   ]
  },
  {
   "cell_type": "markdown",
   "metadata": {},
   "source": [
    "It looks like the max user ID is equal to the number of unique users, but this is not the case for the number of movies. Good thing that we caught this now, otherwise we may have encountered errors if we assumed that because there are only 26744 unique movies that the maximum movie ID was 26744 as well. Let's quickly set these sizes so that later on we can set the embedding layer size appropriately."
   ]
  },
  {
   "cell_type": "code",
   "execution_count": 17,
   "metadata": {
    "collapsed": true
   },
   "outputs": [],
   "source": [
    "n_users, n_movies = 138493, 131262\n",
    "batch_size = 25000"
   ]
  },
  {
   "cell_type": "markdown",
   "metadata": {},
   "source": [
    "We can quickly estimate the sparsity of the MovieLens 20M dataset using these numbers. If there are ~138k unique users and ~27k unique movies, then there are ~3.7 billion entries in the matrix. Since only ~20M of these are present, ~99.5% of the matrix is missing. This type of massive sparsity is common in recommender systems and underlies the necessity of building models that can leverage the existing data to learn complex relationships."
   ]
  },
  {
   "cell_type": "markdown",
   "metadata": {},
   "source": [
    "Next, we need to split the data into a training set and a test set. Let's first shuffle the data to ensure that the data is randomly selected, then we can use the first 19 million samples for training and the remaining for the test set."
   ]
  },
  {
   "cell_type": "code",
   "execution_count": 18,
   "metadata": {
    "collapsed": true
   },
   "outputs": [],
   "source": [
    "n = 19000000\n",
    "\n",
    "data = data.sample(frac=1).reset_index(drop=True) # Shuffle the data in place row-wise\n",
    "\n",
    "train_users = data['userId'].values[:n] - 1 # Offset by 1\n",
    "train_movies = data['movieId'].values[:n] - 1 # Offset by 1 \n",
    "train_ratings = data['rating'].values[:n]\n",
    "\n",
    "valid_users = data['userId'].values[n:] - 1\n",
    "valid_movies = data['movieId'].values[n:] - 1\n",
    "valid_ratings = data['rating'].values[n:]"
   ]
  },
  {
   "cell_type": "markdown",
   "metadata": {},
   "source": [
    "Let's first see how well vanilla matrix factorization works on this example. We use roughly the same code from before, creating a `NDArrayIter` from the actual MovieLens dataset rather than from synthetically generated data. We'll keep all optimization parameters the same for this example."
   ]
  },
  {
   "cell_type": "code",
   "execution_count": 19,
   "metadata": {},
   "outputs": [
    {
     "name": "stderr",
     "output_type": "stream",
     "text": [
      "INFO:root:Epoch[0] Batch [250]\tSpeed: 200059.34 samples/sec\trmse=3.358977\n",
      "INFO:root:Epoch[0] Batch [500]\tSpeed: 192168.53 samples/sec\trmse=1.812172\n",
      "INFO:root:Epoch[0] Batch [750]\tSpeed: 164999.06 samples/sec\trmse=1.181464\n",
      "INFO:root:Epoch[0] Train-rmse=1.059567\n",
      "INFO:root:Epoch[0] Time cost=103.198\n",
      "INFO:root:Epoch[0] Validation-rmse=1.060748\n",
      "INFO:root:Epoch[1] Batch [250]\tSpeed: 177878.44 samples/sec\trmse=1.002401\n",
      "INFO:root:Epoch[1] Batch [500]\tSpeed: 191904.70 samples/sec\trmse=0.936251\n",
      "INFO:root:Epoch[1] Batch [750]\tSpeed: 186608.02 samples/sec\trmse=0.904792\n",
      "INFO:root:Epoch[1] Train-rmse=0.889933\n",
      "INFO:root:Epoch[1] Time cost=102.346\n",
      "INFO:root:Epoch[1] Validation-rmse=0.895546\n",
      "INFO:root:Epoch[2] Batch [250]\tSpeed: 144105.82 samples/sec\trmse=0.887525\n",
      "INFO:root:Epoch[2] Batch [500]\tSpeed: 169424.02 samples/sec\trmse=0.878834\n",
      "INFO:root:Epoch[2] Batch [750]\tSpeed: 184188.96 samples/sec\trmse=0.873441\n",
      "INFO:root:Epoch[2] Train-rmse=0.866750\n",
      "INFO:root:Epoch[2] Time cost=115.381\n",
      "INFO:root:Epoch[2] Validation-rmse=0.872793\n",
      "INFO:root:Epoch[3] Batch [250]\tSpeed: 183870.93 samples/sec\trmse=0.868966\n",
      "INFO:root:Epoch[3] Batch [500]\tSpeed: 176047.45 samples/sec\trmse=0.866003\n",
      "INFO:root:Epoch[3] Batch [750]\tSpeed: 199179.32 samples/sec\trmse=0.863830\n",
      "INFO:root:Epoch[3] Train-rmse=0.858353\n",
      "INFO:root:Epoch[3] Time cost=102.208\n",
      "INFO:root:Epoch[3] Validation-rmse=0.865057\n",
      "INFO:root:Epoch[4] Batch [250]\tSpeed: 192026.08 samples/sec\trmse=0.861179\n",
      "INFO:root:Epoch[4] Batch [500]\tSpeed: 191707.03 samples/sec\trmse=0.859217\n",
      "INFO:root:Epoch[4] Batch [750]\tSpeed: 199780.40 samples/sec\trmse=0.857713\n",
      "INFO:root:Epoch[4] Train-rmse=0.852497\n",
      "INFO:root:Epoch[4] Time cost=97.541\n",
      "INFO:root:Epoch[4] Validation-rmse=0.860001\n"
     ]
    }
   ],
   "source": [
    "X_train = mx.io.NDArrayIter({'user': train_users, 'movie': train_movies}, \n",
    "                            label=train_ratings, batch_size=batch_size)\n",
    "X_eval = mx.io.NDArrayIter({'user': valid_users, 'movie': valid_movies}, \n",
    "                           label=valid_ratings, batch_size=batch_size)\n",
    "\n",
    "user = mx.symbol.Variable(\"user\")\n",
    "user = mx.symbol.Embedding(data=user, input_dim=n_users, output_dim=25)\n",
    "\n",
    "movie = mx.symbol.Variable(\"movie\")\n",
    "movie = mx.symbol.Embedding(data=movie, input_dim=n_movies, output_dim=25)\n",
    "\n",
    "y_true = mx.symbol.Variable(\"softmax_label\")\n",
    "y_pred = mx.symbol.sum_axis(data=(user * movie), axis=1)\n",
    "y_pred = mx.symbol.flatten(y_pred)\n",
    "y_pred = mx.symbol.LinearRegressionOutput(data=y_pred, label=y_true)\n",
    "\n",
    "model = mx.module.Module(context=mx.cpu(), data_names=('user', 'movie'), symbol=y_pred)\n",
    "model.fit(X_train, num_epoch=5, optimizer='adam', optimizer_params=(('learning_rate', 0.001),),\n",
    "          eval_metric='rmse', eval_data=X_eval, batch_end_callback=mx.callback.Speedometer(batch_size, 250))"
   ]
  },
  {
   "cell_type": "markdown",
   "metadata": {},
   "source": [
    "It looks like we're learning something on this dataset! We can see that both the training and the validation RMSE decrease epoch by epoch. Each epoch takes significantly longer than with the synthetic data because we're training on nineteen million examples instead of twenty-five thousand. \n",
    "\n",
    "Let's now turn to deep matrix factorization. We'll use similar code as before, where we concatenate together the two embedding layers and use that as input to two fully connected layers. This network will have the same sized embedding layers as the normal matrix factorization and optimization parameters, meaning that the only change is that a neural network is doing the prediction instead of a dot product."
   ]
  },
  {
   "cell_type": "code",
   "execution_count": 20,
   "metadata": {},
   "outputs": [
    {
     "name": "stderr",
     "output_type": "stream",
     "text": [
      "INFO:root:Epoch[0] Batch [250]\tSpeed: 118637.11 samples/sec\trmse=1.534038\n",
      "INFO:root:Epoch[0] Batch [500]\tSpeed: 113050.06 samples/sec\trmse=0.870649\n",
      "INFO:root:Epoch[0] Batch [750]\tSpeed: 103719.93 samples/sec\trmse=0.864005\n",
      "INFO:root:Epoch[0] Train-rmse=0.857448\n",
      "INFO:root:Epoch[0] Time cost=171.698\n",
      "INFO:root:Epoch[0] Validation-rmse=0.860733\n",
      "INFO:root:Epoch[1] Batch [250]\tSpeed: 78250.38 samples/sec\trmse=0.859745\n",
      "INFO:root:Epoch[1] Batch [500]\tSpeed: 101016.08 samples/sec\trmse=0.855493\n",
      "INFO:root:Epoch[1] Batch [750]\tSpeed: 119003.66 samples/sec\trmse=0.845985\n",
      "INFO:root:Epoch[1] Train-rmse=0.836734\n",
      "INFO:root:Epoch[1] Time cost=196.198\n",
      "INFO:root:Epoch[1] Validation-rmse=0.841941\n",
      "INFO:root:Epoch[2] Batch [250]\tSpeed: 122335.95 samples/sec\trmse=0.837715\n",
      "INFO:root:Epoch[2] Batch [500]\tSpeed: 115161.64 samples/sec\trmse=0.832515\n",
      "INFO:root:Epoch[2] Batch [750]\tSpeed: 125680.21 samples/sec\trmse=0.829576\n",
      "INFO:root:Epoch[2] Train-rmse=0.824149\n",
      "INFO:root:Epoch[2] Time cost=156.961\n",
      "INFO:root:Epoch[2] Validation-rmse=0.831934\n",
      "INFO:root:Epoch[3] Batch [250]\tSpeed: 125879.81 samples/sec\trmse=0.826866\n",
      "INFO:root:Epoch[3] Batch [500]\tSpeed: 126486.63 samples/sec\trmse=0.822214\n",
      "INFO:root:Epoch[3] Batch [750]\tSpeed: 127086.85 samples/sec\trmse=0.818095\n",
      "INFO:root:Epoch[3] Train-rmse=0.811827\n",
      "INFO:root:Epoch[3] Time cost=150.094\n",
      "INFO:root:Epoch[3] Validation-rmse=0.825179\n",
      "INFO:root:Epoch[4] Batch [250]\tSpeed: 126428.28 samples/sec\trmse=0.814212\n",
      "INFO:root:Epoch[4] Batch [500]\tSpeed: 126580.35 samples/sec\trmse=0.809083\n",
      "INFO:root:Epoch[4] Batch [750]\tSpeed: 126718.99 samples/sec\trmse=0.804582\n",
      "INFO:root:Epoch[4] Train-rmse=0.798921\n",
      "INFO:root:Epoch[4] Time cost=149.927\n",
      "INFO:root:Epoch[4] Validation-rmse=0.826697\n"
     ]
    }
   ],
   "source": [
    "X_train = mx.io.NDArrayIter({'user': train_users, 'movie': train_movies}, \n",
    "                            label=train_ratings, batch_size=batch_size)\n",
    "X_eval = mx.io.NDArrayIter({'user': valid_users, 'movie': valid_movies}, \n",
    "                           label=valid_ratings, batch_size=batch_size)\n",
    "\n",
    "user = mx.symbol.Variable(\"user\")\n",
    "user = mx.symbol.Embedding(data=user, input_dim=n_users, output_dim=25)\n",
    "\n",
    "movie = mx.symbol.Variable(\"movie\")\n",
    "movie = mx.symbol.Embedding(data=movie, input_dim=n_movies, output_dim=25)\n",
    "\n",
    "y_true = mx.symbol.Variable(\"softmax_label\")\n",
    "\n",
    "nn = mx.symbol.concat(user, movie)\n",
    "nn = mx.symbol.flatten(nn)\n",
    "nn = mx.symbol.FullyConnected(data=nn, num_hidden=64)\n",
    "nn = mx.symbol.Activation(data=nn, act_type='relu')\n",
    "nn = mx.symbol.FullyConnected(data=nn, num_hidden=64)\n",
    "nn = mx.symbol.Activation(data=nn, act_type='relu')\n",
    "nn = mx.symbol.FullyConnected(data=nn, num_hidden=1)\n",
    "\n",
    "y_pred = mx.symbol.LinearRegressionOutput(data=nn, label=y_true)\n",
    "\n",
    "model = mx.module.Module(context=mx.cpu(), data_names=('user', 'movie'), symbol=y_pred)\n",
    "model.fit(X_train, num_epoch=5, optimizer='adam', optimizer_params=(('learning_rate', 0.001),),\n",
    "          eval_metric='rmse', eval_data=X_eval, batch_end_callback=mx.callback.Speedometer(batch_size, 250))"
   ]
  },
  {
   "cell_type": "markdown",
   "metadata": {},
   "source": [
    "Looks like we're getting a lower validation rmse after 5 epochs using deep matrix factorization than with normal matrix factorization! That is a promising start that one could likely build on by toying with the hyperparameters, activation functions, or structure of the network.\n",
    "\n",
    "It is important to keep in mind that we are training a neural network, and so all of the advances in deep learning can be immediately applied to deep matrix factorization. A widely used advance was that of batch normalization, which essentially tried to shrink the range of values that the internal nodes in a network, ultimately speeding up training. We can use batch normalization layers in our network here as well simply by modifying the network to add these layers in between the fully connected layers and the activation layers."
   ]
  },
  {
   "cell_type": "code",
   "execution_count": 21,
   "metadata": {},
   "outputs": [
    {
     "name": "stderr",
     "output_type": "stream",
     "text": [
      "INFO:root:Epoch[0] Batch [250]\tSpeed: 39208.91 samples/sec\trmse=1.396967\n",
      "INFO:root:Epoch[0] Batch [500]\tSpeed: 37904.94 samples/sec\trmse=0.861666\n",
      "INFO:root:Epoch[0] Batch [750]\tSpeed: 38629.65 samples/sec\trmse=0.846601\n",
      "INFO:root:Epoch[0] Train-rmse=0.837209\n",
      "INFO:root:Epoch[0] Time cost=492.430\n",
      "INFO:root:Epoch[0] Validation-rmse=0.840387\n",
      "INFO:root:Epoch[1] Batch [250]\tSpeed: 38216.81 samples/sec\trmse=0.833456\n",
      "INFO:root:Epoch[1] Batch [500]\tSpeed: 36666.01 samples/sec\trmse=0.824795\n",
      "INFO:root:Epoch[1] Batch [750]\tSpeed: 39337.02 samples/sec\trmse=0.820960\n",
      "INFO:root:Epoch[1] Train-rmse=0.812641\n",
      "INFO:root:Epoch[1] Time cost=498.679\n",
      "INFO:root:Epoch[1] Validation-rmse=0.833002\n",
      "INFO:root:Epoch[2] Batch [250]\tSpeed: 40163.91 samples/sec\trmse=0.807429\n",
      "INFO:root:Epoch[2] Batch [500]\tSpeed: 40749.31 samples/sec\trmse=0.810349\n",
      "INFO:root:Epoch[2] Batch [750]\tSpeed: 41163.72 samples/sec\trmse=0.811134\n",
      "INFO:root:Epoch[2] Train-rmse=0.808280\n",
      "INFO:root:Epoch[2] Time cost=466.423\n",
      "INFO:root:Epoch[2] Validation-rmse=0.826650\n",
      "INFO:root:Epoch[3] Batch [250]\tSpeed: 40259.38 samples/sec\trmse=0.798582\n",
      "INFO:root:Epoch[3] Batch [500]\tSpeed: 39188.80 samples/sec\trmse=0.805801\n",
      "INFO:root:Epoch[3] Batch [750]\tSpeed: 38498.15 samples/sec\trmse=0.805699\n",
      "INFO:root:Epoch[3] Train-rmse=0.806561\n",
      "INFO:root:Epoch[3] Time cost=483.083\n",
      "INFO:root:Epoch[3] Validation-rmse=0.827087\n",
      "INFO:root:Epoch[4] Batch [250]\tSpeed: 38827.68 samples/sec\trmse=0.793857\n",
      "INFO:root:Epoch[4] Batch [500]\tSpeed: 39005.77 samples/sec\trmse=0.800701\n",
      "INFO:root:Epoch[4] Batch [750]\tSpeed: 40256.04 samples/sec\trmse=0.800214\n",
      "INFO:root:Epoch[4] Train-rmse=0.798758\n",
      "INFO:root:Epoch[4] Time cost=482.253\n",
      "INFO:root:Epoch[4] Validation-rmse=0.829661\n"
     ]
    }
   ],
   "source": [
    "X_train = mx.io.NDArrayIter({'user': train_users, 'movie': train_movies}, \n",
    "                            label=train_ratings, batch_size=batch_size)\n",
    "X_eval = mx.io.NDArrayIter({'user': valid_users, 'movie': valid_movies}, \n",
    "                           label=valid_ratings, batch_size=batch_size)\n",
    "\n",
    "user = mx.symbol.Variable(\"user\")\n",
    "user = mx.symbol.Embedding(data=user, input_dim=n_users, output_dim=25)\n",
    "\n",
    "movie = mx.symbol.Variable(\"movie\")\n",
    "movie = mx.symbol.Embedding(data=movie, input_dim=n_movies, output_dim=25)\n",
    "\n",
    "y_true = mx.symbol.Variable(\"softmax_label\")\n",
    "\n",
    "nn = mx.symbol.concat(user, movie)\n",
    "nn = mx.symbol.flatten(nn)\n",
    "nn = mx.symbol.FullyConnected(data=nn, num_hidden=64)\n",
    "nn = mx.symbol.BatchNorm(data=nn) # First batch norm layer here!\n",
    "nn = mx.symbol.Activation(data=nn, act_type='relu') \n",
    "nn = mx.symbol.FullyConnected(data=nn, num_hidden=64)\n",
    "nn = mx.symbol.BatchNorm(data=nn) # Second batch norm layer here!\n",
    "nn = mx.symbol.Activation(data=nn, act_type='relu')\n",
    "nn = mx.symbol.FullyConnected(data=nn, num_hidden=1)\n",
    "\n",
    "y_pred = mx.symbol.LinearRegressionOutput(data=nn, label=y_true)\n",
    "\n",
    "model = mx.module.Module(context=mx.cpu(), data_names=('user', 'movie'), symbol=y_pred)\n",
    "model.fit(X_train, num_epoch=5, optimizer='adam', optimizer_params=(('learning_rate', 0.001),),\n",
    "          eval_metric='rmse', eval_data=X_eval, batch_end_callback=mx.callback.Speedometer(batch_size, 250))"
   ]
  },
  {
   "cell_type": "markdown",
   "metadata": {},
   "source": [
    "It seems like for this specific dataset, batch normalization does cause the network to converge faster, but does not produce a significantly better model. Despite this, one may find that it does help with their dataset, particularly if that dataset requires a deeper network than the two layered one used here.\n",
    "\n",
    "An alternate approach to this model is to consider the problem a classification problem instead of a regression problem. In the classification approach, the classes are the various ratings, and one attempts a 10 class problem, since there are 10 possible ratings that a film can get. The only modification to the data needed is to modify the ratings to be integers between 0 and 9 instead of 0 to 5 with 0.5 star spacing. The network needs only be modified to have 10 hidden units in the final layer, since it is now a 10 class problem, and to use the softmax output designed for classification problems instead of the linear regression output designed for regression problems. Lastly, since this is a classification problem, we want to use accuracy as the evaluation metric instead of RMSE."
   ]
  },
  {
   "cell_type": "code",
   "execution_count": 22,
   "metadata": {},
   "outputs": [
    {
     "name": "stderr",
     "output_type": "stream",
     "text": [
      "INFO:root:Epoch[0] Batch [250]\tSpeed: 122794.92 samples/sec\taccuracy=0.277911\n",
      "INFO:root:Epoch[0] Batch [500]\tSpeed: 114745.76 samples/sec\taccuracy=0.308079\n",
      "INFO:root:Epoch[0] Batch [750]\tSpeed: 120039.00 samples/sec\taccuracy=0.352916\n",
      "INFO:root:Epoch[0] Train-accuracy=0.369453\n",
      "INFO:root:Epoch[0] Time cost=159.667\n",
      "INFO:root:Epoch[0] Validation-accuracy=0.369045\n",
      "INFO:root:Epoch[1] Batch [250]\tSpeed: 119471.48 samples/sec\taccuracy=0.374056\n",
      "INFO:root:Epoch[1] Batch [500]\tSpeed: 121729.90 samples/sec\taccuracy=0.381145\n",
      "INFO:root:Epoch[1] Batch [750]\tSpeed: 122073.81 samples/sec\taccuracy=0.386917\n",
      "INFO:root:Epoch[1] Train-accuracy=0.391404\n",
      "INFO:root:Epoch[1] Time cost=156.781\n",
      "INFO:root:Epoch[1] Validation-accuracy=0.386814\n",
      "INFO:root:Epoch[2] Batch [250]\tSpeed: 122468.00 samples/sec\taccuracy=0.390450\n",
      "INFO:root:Epoch[2] Batch [500]\tSpeed: 122347.94 samples/sec\taccuracy=0.394187\n",
      "INFO:root:Epoch[2] Batch [750]\tSpeed: 119624.61 samples/sec\taccuracy=0.397321\n",
      "INFO:root:Epoch[2] Train-accuracy=0.400560\n",
      "INFO:root:Epoch[2] Time cost=156.243\n",
      "INFO:root:Epoch[2] Validation-accuracy=0.391776\n",
      "INFO:root:Epoch[3] Batch [250]\tSpeed: 121367.88 samples/sec\taccuracy=0.399314\n",
      "INFO:root:Epoch[3] Batch [500]\tSpeed: 122706.09 samples/sec\taccuracy=0.401204\n",
      "INFO:root:Epoch[3] Batch [750]\tSpeed: 121675.35 samples/sec\taccuracy=0.404014\n",
      "INFO:root:Epoch[3] Train-accuracy=0.406444\n",
      "INFO:root:Epoch[3] Time cost=155.693\n",
      "INFO:root:Epoch[3] Validation-accuracy=0.393607\n",
      "INFO:root:Epoch[4] Batch [250]\tSpeed: 122690.81 samples/sec\taccuracy=0.405457\n",
      "INFO:root:Epoch[4] Batch [500]\tSpeed: 120709.25 samples/sec\taccuracy=0.406774\n",
      "INFO:root:Epoch[4] Batch [750]\tSpeed: 122051.33 samples/sec\taccuracy=0.409256\n",
      "INFO:root:Epoch[4] Train-accuracy=0.410387\n",
      "INFO:root:Epoch[4] Time cost=155.800\n",
      "INFO:root:Epoch[4] Validation-accuracy=0.394097\n"
     ]
    }
   ],
   "source": [
    "X_train = mx.io.NDArrayIter({'user': train_users, 'movie': train_movies}, \n",
    "                            label=train_ratings*2-1, batch_size=batch_size)\n",
    "X_eval = mx.io.NDArrayIter({'user': valid_users, 'movie': valid_movies}, \n",
    "                           label=valid_ratings*2-1, batch_size=batch_size)\n",
    "\n",
    "user = mx.symbol.Variable(\"user\")\n",
    "user = mx.symbol.Embedding(data=user, input_dim=n_users, output_dim=25)\n",
    "\n",
    "movie = mx.symbol.Variable(\"movie\")\n",
    "movie = mx.symbol.Embedding(data=movie, input_dim=n_movies, output_dim=25)\n",
    "\n",
    "y_true = mx.symbol.Variable(\"softmax_label\")\n",
    "\n",
    "nn = mx.symbol.concat(user, movie)\n",
    "nn = mx.symbol.flatten(nn)\n",
    "nn = mx.symbol.FullyConnected(data=nn, num_hidden=64)\n",
    "nn = mx.symbol.Activation(data=nn, act_type='relu')\n",
    "nn = mx.symbol.FullyConnected(data=nn, num_hidden=64)\n",
    "nn = mx.symbol.Activation(data=nn, act_type='relu')\n",
    "nn = mx.symbol.FullyConnected(data=nn, num_hidden=10) # 10 hidden units because 10 classes\n",
    "\n",
    "y_pred = mx.symbol.SoftmaxOutput(data=nn, label=y_true) # SoftmaxOutput instead of LinearRegressionOutput\n",
    "#y_pred = mx.symbol.LinearRegressionOutput(data=nn, label=y_true)\n",
    "\n",
    "model = mx.module.Module(context=mx.cpu(), data_names=('user', 'movie'), symbol=y_pred)\n",
    "model.fit(X_train, num_epoch=5, optimizer='adam', optimizer_params=(('learning_rate', 0.001),),\n",
    "          eval_metric='acc', eval_data=X_eval, batch_end_callback=mx.callback.Speedometer(batch_size, 250))"
   ]
  },
  {
   "cell_type": "markdown",
   "metadata": {},
   "source": [
    "It does appear that the network is getting more accurate over time, but accuracy results aren't directly comparable to the RMSE results. We can convert the results that we got to RMSE by taking the most likely rating as the predicted value (using the argmax function on the vector of probabilities predicted for each rating) and calculating RMSE ourselves."
   ]
  },
  {
   "cell_type": "code",
   "execution_count": 23,
   "metadata": {},
   "outputs": [
    {
     "data": {
      "image/png": "[encoded data removed]",
      "text/plain": [
       "<matplotlib.figure.Figure at 0x111fc5c88>"
      ]
     },
     "metadata": {},
     "output_type": "display_data"
    }
   ],
   "source": [
    "y_pred = model.predict(X_eval).asnumpy().argmax(axis=1)\n",
    "y_pred = (y_pred + 1.) / 2\n",
    "\n",
    "plt.title(\"Distribution of Predictions\", fontsize=14)\n",
    "plt.ylabel(\"Count\", fontsize=14)\n",
    "plt.xlabel(\"Rating\", fontsize=14)\n",
    "plt.hist(y_pred)\n",
    "plt.show()"
   ]
  },
  {
   "cell_type": "markdown",
   "metadata": {},
   "source": [
    "RMSE is simple to implement ourselves and calculate."
   ]
  },
  {
   "cell_type": "code",
   "execution_count": 24,
   "metadata": {},
   "outputs": [
    {
     "data": {
      "text/plain": [
       "0.94985115511429619"
      ]
     },
     "execution_count": 24,
     "metadata": {},
     "output_type": "execute_result"
    }
   ],
   "source": [
    "numpy.sqrt(((y_pred - valid_ratings) ** 2).mean())"
   ]
  },
  {
   "cell_type": "markdown",
   "metadata": {},
   "source": [
    "It appears that this methid does not work that well compared to optimizing the RMSE directly for this specific dataset. However, this opens the door to using MXNet to solve all types of matrix completion problems that have categories that need to be predicted instead of real values. It is very easy to transfer from a regression approach to a classification approach when using a neural network, and that simplicity transfers over to deep matrix factorization as well.\n",
    "\n",
    "## Structural Regularization in Deep Matrix Factorization\n",
    "\n",
    "Another aspect of deep matrix factorization's flexibility over that of vanilla matrix factorization is the `output_dim` size of the embedding layers. For vanilla matrix factorization these values must be the same for both inputs because the prediction is the dot product between the two. However, if these serve as the input for a neural network, this restriction goes away. This is useful in the case where one dimension may be significantly larger than the other and thus requires training a massive number of factors. In the MovieLens case there are significantly more users (~138k) than there are movies (~27k). By changing the number of user factors from 25 to 15 we can reduce the number of parameters by 1.38 million while not losing any expressivity on the movie side. The only change is changing the value of `output_dim` in the user embedding layer."
   ]
  },
  {
   "cell_type": "code",
   "execution_count": 25,
   "metadata": {},
   "outputs": [
    {
     "name": "stderr",
     "output_type": "stream",
     "text": [
      "INFO:root:Epoch[0] Batch [250]\tSpeed: 145962.10 samples/sec\trmse=1.514931\n",
      "INFO:root:Epoch[0] Batch [500]\tSpeed: 148807.95 samples/sec\trmse=0.870363\n",
      "INFO:root:Epoch[0] Batch [750]\tSpeed: 145735.88 samples/sec\trmse=0.863618\n",
      "INFO:root:Epoch[0] Train-rmse=0.857462\n",
      "INFO:root:Epoch[0] Time cost=129.353\n",
      "INFO:root:Epoch[0] Validation-rmse=0.860865\n",
      "INFO:root:Epoch[1] Batch [250]\tSpeed: 133382.85 samples/sec\trmse=0.859818\n",
      "INFO:root:Epoch[1] Batch [500]\tSpeed: 141339.16 samples/sec\trmse=0.854639\n",
      "INFO:root:Epoch[1] Batch [750]\tSpeed: 143850.40 samples/sec\trmse=0.843351\n",
      "INFO:root:Epoch[1] Train-rmse=0.834700\n",
      "INFO:root:Epoch[1] Time cost=136.112\n",
      "INFO:root:Epoch[1] Validation-rmse=0.839810\n",
      "INFO:root:Epoch[2] Batch [250]\tSpeed: 147025.64 samples/sec\trmse=0.835836\n",
      "INFO:root:Epoch[2] Batch [500]\tSpeed: 146040.68 samples/sec\trmse=0.831258\n",
      "INFO:root:Epoch[2] Batch [750]\tSpeed: 145320.30 samples/sec\trmse=0.828088\n",
      "INFO:root:Epoch[2] Train-rmse=0.822267\n",
      "INFO:root:Epoch[2] Time cost=129.913\n",
      "INFO:root:Epoch[2] Validation-rmse=0.830307\n",
      "INFO:root:Epoch[3] Batch [250]\tSpeed: 147053.45 samples/sec\trmse=0.823348\n",
      "INFO:root:Epoch[3] Batch [500]\tSpeed: 148078.04 samples/sec\trmse=0.819856\n",
      "INFO:root:Epoch[3] Batch [750]\tSpeed: 144657.70 samples/sec\trmse=0.816956\n",
      "INFO:root:Epoch[3] Train-rmse=0.811044\n",
      "INFO:root:Epoch[3] Time cost=129.497\n",
      "INFO:root:Epoch[3] Validation-rmse=0.822730\n",
      "INFO:root:Epoch[4] Batch [250]\tSpeed: 145915.07 samples/sec\trmse=0.812906\n",
      "INFO:root:Epoch[4] Batch [500]\tSpeed: 146004.64 samples/sec\trmse=0.810784\n",
      "INFO:root:Epoch[4] Batch [750]\tSpeed: 145000.29 samples/sec\trmse=0.807913\n",
      "INFO:root:Epoch[4] Train-rmse=0.801218\n",
      "INFO:root:Epoch[4] Time cost=130.319\n",
      "INFO:root:Epoch[4] Validation-rmse=0.822108\n"
     ]
    }
   ],
   "source": [
    "X_train = mx.io.NDArrayIter({'user': train_users, 'movie': train_movies}, \n",
    "                            label=train_ratings, batch_size=batch_size)\n",
    "X_eval = mx.io.NDArrayIter({'user': valid_users, 'movie': valid_movies}, \n",
    "                           label=valid_ratings, batch_size=batch_size)\n",
    "\n",
    "user = mx.symbol.Variable(\"user\")\n",
    "user = mx.symbol.Embedding(data=user, input_dim=n_users, output_dim=15) # Using 15 instead of 25 here\n",
    "\n",
    "movie = mx.symbol.Variable(\"movie\")\n",
    "movie = mx.symbol.Embedding(data=movie, input_dim=n_movies, output_dim=25)\n",
    "\n",
    "y_true = mx.symbol.Variable(\"softmax_label\")\n",
    "\n",
    "nn = mx.symbol.concat(user, movie)\n",
    "nn = mx.symbol.flatten(nn)\n",
    "nn = mx.symbol.FullyConnected(data=nn, num_hidden=64)\n",
    "nn = mx.symbol.Activation(data=nn, act_type='relu') \n",
    "nn = mx.symbol.FullyConnected(data=nn, num_hidden=64)\n",
    "nn = mx.symbol.Activation(data=nn, act_type='relu')\n",
    "nn = mx.symbol.FullyConnected(data=nn, num_hidden=1)\n",
    "\n",
    "y_pred = mx.symbol.LinearRegressionOutput(data=nn, label=y_true)\n",
    "\n",
    "model = mx.module.Module(context=mx.cpu(), data_names=('user', 'movie'), symbol=y_pred)\n",
    "model.fit(X_train, num_epoch=5, optimizer='adam', optimizer_params=(('learning_rate', 0.001),),\n",
    "          eval_metric='rmse', eval_data=X_eval, batch_end_callback=mx.callback.Speedometer(batch_size, 250))"
   ]
  },
  {
   "cell_type": "markdown",
   "metadata": {},
   "source": [
    "It seems like we are getting similar accuracy with drastically fewer parameters. This is useful in a setting where you may run out of memory due to the size of the matrix being completed, or as a way to reduce overfitting by using a simpler model. One can imagine that perhaps movies might be difficult to appropriately represent and have many aspects that should be modeled, whereas users are simpler and only have a few features that are relevant. Being able to tune the size of these embedding layers is a very useful tool.\n",
    "\n",
    "Next, we can extend matrix factorization past using only two embedding layers. The MovieLens dataset comes with genres for each of the films. Presumably genre is one of the major aspects that would be learned by the movie embedding layer already, so explicitly including that information can be beneficial. More broadly, perhaps there are some features that are common to a ~genre~ of films instead of an individual film. By modeling the genre of film as its own embedding layer, we can train these factors using all films of a given genre instead of trying to learn the value of the respective factor for each movie individually. Since we've already seen that the number of factors in each layer can be variable, we don't need to be concerned with the size of any of these layers. We can see that visually below. Assuming that movies have been sorted by genre, we can see that half of the movie factors now correspond more broadly to the genre that they are in and are shared across movies, while the other half are still movie specific factors. The change to the network is conceptually very simple, now concatenating three embedding layers to be the input to the network instead of only two.\n",
    "\n",
    "<img src=\"embedding-layers.png\">\n",
    "\n",
    "Let's first load up the genre data."
   ]
  },
  {
   "cell_type": "code",
   "execution_count": 26,
   "metadata": {},
   "outputs": [
    {
     "data": {
      "text/html": [
       "<div>\n",
       "<table border=\"1\" class=\"dataframe\">\n",
       "  <thead>\n",
       "    <tr style=\"text-align: right;\">\n",
       "      <th></th>\n",
       "      <th>movieId</th>\n",
       "      <th>title</th>\n",
       "      <th>genres</th>\n",
       "    </tr>\n",
       "  </thead>\n",
       "  <tbody>\n",
       "    <tr>\n",
       "      <th>0</th>\n",
       "      <td>1</td>\n",
       "      <td>Toy Story (1995)</td>\n",
       "      <td>Adventure|Animation|Children|Comedy|Fantasy</td>\n",
       "    </tr>\n",
       "    <tr>\n",
       "      <th>1</th>\n",
       "      <td>2</td>\n",
       "      <td>Jumanji (1995)</td>\n",
       "      <td>Adventure|Children|Fantasy</td>\n",
       "    </tr>\n",
       "    <tr>\n",
       "      <th>2</th>\n",
       "      <td>3</td>\n",
       "      <td>Grumpier Old Men (1995)</td>\n",
       "      <td>Comedy|Romance</td>\n",
       "    </tr>\n",
       "    <tr>\n",
       "      <th>3</th>\n",
       "      <td>4</td>\n",
       "      <td>Waiting to Exhale (1995)</td>\n",
       "      <td>Comedy|Drama|Romance</td>\n",
       "    </tr>\n",
       "    <tr>\n",
       "      <th>4</th>\n",
       "      <td>5</td>\n",
       "      <td>Father of the Bride Part II (1995)</td>\n",
       "      <td>Comedy</td>\n",
       "    </tr>\n",
       "  </tbody>\n",
       "</table>\n",
       "</div>"
      ],
      "text/plain": [
       "   movieId                               title  \\\n",
       "0        1                    Toy Story (1995)   \n",
       "1        2                      Jumanji (1995)   \n",
       "2        3             Grumpier Old Men (1995)   \n",
       "3        4            Waiting to Exhale (1995)   \n",
       "4        5  Father of the Bride Part II (1995)   \n",
       "\n",
       "                                        genres  \n",
       "0  Adventure|Animation|Children|Comedy|Fantasy  \n",
       "1                   Adventure|Children|Fantasy  \n",
       "2                               Comedy|Romance  \n",
       "3                         Comedy|Drama|Romance  \n",
       "4                                       Comedy  "
      ]
     },
     "execution_count": 26,
     "metadata": {},
     "output_type": "execute_result"
    }
   ],
   "source": [
    "genres = pandas.read_csv('./ml-20m/movies.csv')\n",
    "genres.head()"
   ]
  },
  {
   "cell_type": "markdown",
   "metadata": {},
   "source": [
    "It looks like this dataset is simple, it just has all of the genres and the corresponding title and movieId. For simplicity, let's only use the first genre of the many that are specified, and determine a unique ID for each of the genres. Modeling all the genres applied to a movie is left as an exercise for the reader (hint: instead of label, use a one- or multiple-hot vector!)."
   ]
  },
  {
   "cell_type": "code",
   "execution_count": 27,
   "metadata": {},
   "outputs": [
    {
     "data": {
      "text/plain": [
       "{'(no genres listed)': 0,\n",
       " 'Action': 1,\n",
       " 'Adventure': 2,\n",
       " 'Animation': 3,\n",
       " 'Children': 4,\n",
       " 'Comedy': 5,\n",
       " 'Crime': 6,\n",
       " 'Documentary': 7,\n",
       " 'Drama': 8,\n",
       " 'Fantasy': 9,\n",
       " 'Film-Noir': 10,\n",
       " 'Horror': 11,\n",
       " 'IMAX': 12,\n",
       " 'Musical': 13,\n",
       " 'Mystery': 14,\n",
       " 'Romance': 15,\n",
       " 'Sci-Fi': 16,\n",
       " 'Thriller': 17,\n",
       " 'War': 18,\n",
       " 'Western': 19}"
      ]
     },
     "execution_count": 27,
     "metadata": {},
     "output_type": "execute_result"
    }
   ],
   "source": [
    "labels_str = [label.split(\"|\")[0] for label in genres['genres']]\n",
    "label_set = numpy.unique(labels_str)\n",
    "label_idxs = {l: i for i, l in enumerate(label_set)}\n",
    "label_idxs"
   ]
  },
  {
   "cell_type": "markdown",
   "metadata": {},
   "source": [
    "It looks like there are 20 genres, with one being that no genres are listed. This seems appropriate. We want our network to now take in three numbers, the user ID, the movie ID, and the movie genre ID. This will allow us to train factors specific to all romance movies, for example, or all fantasy movies."
   ]
  },
  {
   "cell_type": "code",
   "execution_count": 28,
   "metadata": {},
   "outputs": [
    {
     "data": {
      "text/plain": [
       "array([  5.,   5.,   1.,   5.,  11.,   8.,   5.,   2.,   5.,   2.])"
      ]
     },
     "execution_count": 28,
     "metadata": {},
     "output_type": "execute_result"
    }
   ],
   "source": [
    "labels = numpy.empty(n_movies)\n",
    "for movieId, label in zip(genres['movieId'], labels_str):\n",
    "    labels[movieId-1] = label_idxs[label]\n",
    "\n",
    "train_genres = numpy.array([labels[int(j)] for j in train_movies])\n",
    "valid_genres = numpy.array([labels[int(j)] for j in valid_movies])\n",
    "train_genres[:10]"
   ]
  },
  {
   "cell_type": "markdown",
   "metadata": {},
   "source": [
    "Now we have our three labels. We need to move our data iterator to take in movie type as a third input, and our network to have a third embedding layer. Let's move five factors over from the movie factors to this new movie genre embedded layer. This is another way one can attempt to structurally regularize their model, as roughly 135,000 parameters are removed from the movie embedding layer, and only 100 are added in the genre layer. The input to the network remains the same size, 40, but the values are now comprised of three layers instead of just two."
   ]
  },
  {
   "cell_type": "code",
   "execution_count": 29,
   "metadata": {
    "scrolled": true
   },
   "outputs": [
    {
     "name": "stderr",
     "output_type": "stream",
     "text": [
      "INFO:root:Epoch[0] Batch [250]\tSpeed: 152348.60 samples/sec\trmse=1.543478\n",
      "INFO:root:Epoch[0] Batch [500]\tSpeed: 156112.50 samples/sec\trmse=0.869655\n",
      "INFO:root:Epoch[0] Batch [750]\tSpeed: 158070.14 samples/sec\trmse=0.863854\n",
      "INFO:root:Epoch[0] Train-rmse=0.857693\n",
      "INFO:root:Epoch[0] Time cost=122.266\n",
      "INFO:root:Epoch[0] Validation-rmse=0.861068\n",
      "INFO:root:Epoch[1] Batch [250]\tSpeed: 157670.08 samples/sec\trmse=0.860133\n",
      "INFO:root:Epoch[1] Batch [500]\tSpeed: 150558.44 samples/sec\trmse=0.858514\n",
      "INFO:root:Epoch[1] Batch [750]\tSpeed: 156919.67 samples/sec\trmse=0.857988\n",
      "INFO:root:Epoch[1] Train-rmse=0.852612\n",
      "INFO:root:Epoch[1] Time cost=122.420\n",
      "INFO:root:Epoch[1] Validation-rmse=0.857694\n",
      "INFO:root:Epoch[2] Batch [250]\tSpeed: 155068.93 samples/sec\trmse=0.854496\n",
      "INFO:root:Epoch[2] Batch [500]\tSpeed: 154660.07 samples/sec\trmse=0.846820\n",
      "INFO:root:Epoch[2] Batch [750]\tSpeed: 151527.08 samples/sec\trmse=0.840205\n",
      "INFO:root:Epoch[2] Train-rmse=0.832399\n",
      "INFO:root:Epoch[2] Time cost=123.495\n",
      "INFO:root:Epoch[2] Validation-rmse=0.838327\n",
      "INFO:root:Epoch[3] Batch [250]\tSpeed: 150934.93 samples/sec\trmse=0.833670\n",
      "INFO:root:Epoch[3] Batch [500]\tSpeed: 153191.56 samples/sec\trmse=0.829874\n",
      "INFO:root:Epoch[3] Batch [750]\tSpeed: 156284.66 samples/sec\trmse=0.828139\n",
      "INFO:root:Epoch[3] Train-rmse=0.822959\n",
      "INFO:root:Epoch[3] Time cost=123.722\n",
      "INFO:root:Epoch[3] Validation-rmse=0.831702\n",
      "INFO:root:Epoch[4] Batch [250]\tSpeed: 156946.80 samples/sec\trmse=0.825830\n",
      "INFO:root:Epoch[4] Batch [500]\tSpeed: 157734.05 samples/sec\trmse=0.823614\n",
      "INFO:root:Epoch[4] Batch [750]\tSpeed: 156028.05 samples/sec\trmse=0.821216\n",
      "INFO:root:Epoch[4] Train-rmse=0.815023\n",
      "INFO:root:Epoch[4] Time cost=121.003\n",
      "INFO:root:Epoch[4] Validation-rmse=0.826572\n"
     ]
    }
   ],
   "source": [
    "X_train = mx.io.NDArrayIter({'user': train_users, 'movie': train_movies, 'movie_genre': train_genres}, \n",
    "                            label=train_ratings, batch_size=batch_size)\n",
    "X_eval = mx.io.NDArrayIter({'user': valid_users, 'movie': valid_movies, 'movie_genre': valid_genres}, \n",
    "                           label=valid_ratings, batch_size=batch_size)\n",
    "\n",
    "user = mx.symbol.Variable(\"user\")\n",
    "user = mx.symbol.Embedding(data=user, input_dim=n_users, output_dim=15)\n",
    "\n",
    "movie = mx.symbol.Variable(\"movie\")\n",
    "movie = mx.symbol.Embedding(data=movie, input_dim=n_movies, output_dim=20) # Reduce by 5\n",
    "\n",
    "# We need to add in a third embedding layer for genre\n",
    "movie_genre = mx.symbol.Variable(\"movie_genre\")\n",
    "movie_genre = mx.symbol.Embedding(data=movie_genre, input_dim=20, output_dim=5) # Set to 5\n",
    "\n",
    "y_true = mx.symbol.Variable(\"softmax_label\")\n",
    "\n",
    "nn = mx.symbol.concat(user, movie, movie_genre)\n",
    "nn = mx.symbol.flatten(nn)\n",
    "nn = mx.symbol.FullyConnected(data=nn, num_hidden=64)\n",
    "nn = mx.symbol.Activation(data=nn, act_type='relu')\n",
    "nn = mx.symbol.FullyConnected(data=nn, num_hidden=64)\n",
    "nn = mx.symbol.Activation(data=nn, act_type='relu')\n",
    "nn = mx.symbol.FullyConnected(data=nn, num_hidden=1)\n",
    "\n",
    "y_pred = mx.symbol.LinearRegressionOutput(data=nn, label=y_true)\n",
    "\n",
    "model = mx.module.Module(context=mx.cpu(), data_names=('user', 'movie', 'movie_genre'), symbol=y_pred)\n",
    "model.fit(X_train, num_epoch=5, optimizer='adam', optimizer_params=(('learning_rate', 0.001),),\n",
    "          eval_metric='rmse', eval_data=X_eval, batch_end_callback=mx.callback.Speedometer(batch_size, 250))"
   ]
  },
  {
   "cell_type": "markdown",
   "metadata": {},
   "source": [
    "While it doesn't appear that using only the first genre has led to much improvement on this dataset, it demonstrates the types of things that one could do with the flexibility afforded by deep matrix factorization. In order to model all possible genres, perhaps one would create one embedding layer per genre that can either be 0 meaning the movie is not a part of that genre or a 1 meaning that it is. Alternatively, one could create a dense input vector that is encoded in the same way to replace the many embedding layers with a single input layer. Depending on the amount of information that is present for each user one may choose to add this type of structural regularization on the user axis as well."
   ]
  },
  {
   "cell_type": "markdown",
   "metadata": {
    "collapsed": true
   },
   "source": [
    "## Conclusion\n",
    "\n",
    "In this tutorial we investigated both traditional and deep matrix factorization and showed how one would use Apache MXNet to implement these models. Since these types of matrix factorization models are commonly used to build recommender systems, we showed how to build models to predict user ratings of movies using the MovieLens 20M dataset. We saw that deep matrix factorization can natively take advantage of the recent advances in deep learning to learn more sophisticated models. In addition, deep matrix factorization can take advantage of the flexibility afforded by neural networks to allow more complicated inputs than traditional matrix factorization can handle that could yield additional insight into the task. Apache MXNet makes doing all of this simple, as with only about two dozen lines of code one can define both the model and how to train it. Since MXNet is built with distributed computing in mind it is easy to take advantage of those built-in features to scale this type of model up to massive datasets that can't fit in memory.\n",
    "\n",
    "For further reading, the <a href=\"https://github.com/apache/incubator-mxnet/tree/master/example/recommenders\">MXNet GitHub page</a> offers several tutorials on how to use MXNet to implement many types of recommender systems. Leo Dirac also has an <a href=\"https://www.youtube.com/watch?v=cftJAuwKWkA\">excellent tutorial</a> on using MXNet for recommender systems that is worth watching."
   ]
  }
 ],
 "metadata": {
  "kernelspec": {
   "display_name": "Python 3",
   "language": "python",
   "name": "python3"
  },
  "language_info": {
   "codemirror_mode": {
    "name": "ipython",
    "version": 3
   },
   "file_extension": ".py",
   "mimetype": "text/x-python",
   "name": "python",
   "nbconvert_exporter": "python",
   "pygments_lexer": "ipython3",
   "version": "3.5.3"
  }
 },
 "nbformat": 4,
 "nbformat_minor": 2
}
