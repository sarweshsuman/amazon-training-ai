{
 "cells": [
  {
   "cell_type": "code",
   "execution_count": null,
   "metadata": {
    "collapsed": true
   },
   "outputs": [],
   "source": [
    "import numpy as np\n",
    "import matplotlib.pyplot as plt"
   ]
  },
  {
   "cell_type": "code",
   "execution_count": null,
   "metadata": {
    "collapsed": true
   },
   "outputs": [],
   "source": [
    "%matplotlib notebook"
   ]
  },
  {
   "cell_type": "markdown",
   "metadata": {},
   "source": [
    "# Generate Synthetic Data"
   ]
  },
  {
   "cell_type": "code",
   "execution_count": null,
   "metadata": {
    "collapsed": true
   },
   "outputs": [],
   "source": [
    "numSyntheticSamples = 100000\n",
    "syntheticDataRange = np.linspace( 0, np.pi*numSyntheticSamples/10.0, numSyntheticSamples)\n",
    "syntheticData = np.sin( syntheticDataRange ) + np.random.randint( -1, 1, size = numSyntheticSamples ) * 1/2."
   ]
  },
  {
   "cell_type": "code",
   "execution_count": null,
   "metadata": {
    "collapsed": true
   },
   "outputs": [],
   "source": [
    "if syntheticData.ndim < 2:\n",
    "    syntheticData = np.expand_dims(syntheticData, axis=1)"
   ]
  },
  {
   "cell_type": "code",
   "execution_count": null,
   "metadata": {},
   "outputs": [],
   "source": [
    "syntheticData.shape"
   ]
  },
  {
   "cell_type": "code",
   "execution_count": null,
   "metadata": {},
   "outputs": [],
   "source": [
    "plt.figure()\n",
    "plt.plot(syntheticData[:500])"
   ]
  },
  {
   "cell_type": "code",
   "execution_count": null,
   "metadata": {},
   "outputs": [],
   "source": [
    "# Define hyperparameters\n",
    "\n",
    "# of samples per sensor for the micro model [sliding window of ~2.5 hrs]\n",
    "hParams = {}\n",
    "\n",
    "hParams['windowSamples'] = 30\n",
    "hParams['bottleNeckUnits'] = 5\n",
    "hParams['nSensors'] = 1\n",
    "hParams['overlapPercentage'] = .99\n",
    "hParams['advanceSamples'] = ( hParams['windowSamples'] - int( np.floor( hParams['windowSamples'] * hParams['overlapPercentage'] ) ))"
   ]
  },
  {
   "cell_type": "markdown",
   "metadata": {},
   "source": [
    "# Split into train and test set (.25 test data)"
   ]
  },
  {
   "cell_type": "code",
   "execution_count": null,
   "metadata": {
    "collapsed": true
   },
   "outputs": [],
   "source": [
    "def train_test_split (x, testDataRatio = .25, trainDataAtStart = True):\n",
    "    assert x.ndim > 1\n",
    "    if trainDataAtStart:\n",
    "        splitIndex = int( ( 1.0 - testDataRatio) * x.shape[0] )    \n",
    "        \n",
    "        xTrain = x[ 0:splitIndex, :]\n",
    "        xTest = x[ splitIndex:, :]\n",
    "    else:\n",
    "        splitIndex = int( testDataRatio * x.shape[0] )\n",
    "        xTest = x[ 0:splitIndex, :]\n",
    "        xTrain = x[ splitIndex:, :]\n",
    "        \n",
    "    return xTrain, xTest"
   ]
  },
  {
   "cell_type": "code",
   "execution_count": null,
   "metadata": {
    "collapsed": true
   },
   "outputs": [],
   "source": [
    "trainSplit, testSplit = train_test_split( syntheticData )"
   ]
  },
  {
   "cell_type": "code",
   "execution_count": null,
   "metadata": {},
   "outputs": [],
   "source": [
    "syntheticData.shape"
   ]
  },
  {
   "cell_type": "code",
   "execution_count": null,
   "metadata": {},
   "outputs": [],
   "source": [
    "trainSplit.shape"
   ]
  },
  {
   "cell_type": "code",
   "execution_count": null,
   "metadata": {},
   "outputs": [],
   "source": [
    "testSplit.shape"
   ]
  },
  {
   "cell_type": "markdown",
   "metadata": {},
   "source": [
    "# Normalize data ( 0 mean, unit standard deviation )"
   ]
  },
  {
   "cell_type": "code",
   "execution_count": null,
   "metadata": {},
   "outputs": [],
   "source": [
    "# find normalization statistics\n",
    "trainMeans = np.mean(trainSplit, axis=0)\n",
    "trainSTDevs = np.std(trainSplit, axis=0)\n",
    "print(trainMeans); print(trainSTDevs)\n",
    "\n",
    "# normalize [ in place / overwrite ]\n",
    "normalizedTrainData = (trainSplit - trainMeans) / (trainSTDevs + .0001)\n",
    "normalizedTestData = (testSplit - trainMeans) / (trainSTDevs + .0001)"
   ]
  },
  {
   "cell_type": "markdown",
   "metadata": {},
   "source": [
    "# Generate shuffled windows"
   ]
  },
  {
   "cell_type": "code",
   "execution_count": null,
   "metadata": {
    "collapsed": true
   },
   "outputs": [],
   "source": [
    "def reshape_into_shuffled_data_windows ( x, windowSize, advanceSamples ):\n",
    "    nWindows = int( np.floor( (x.shape[0] - windowSize)/(advanceSamples*1.0) ) )\n",
    "    # shuffle indexes\n",
    "    shuffledWindowInds = np.arange(nWindows)\n",
    "    np.random.shuffle(shuffledWindowInds)    \n",
    "        \n",
    "    nSensors = x.shape[1]\n",
    "    outputMatrix = np.zeros((nWindows, windowSize * nSensors))\n",
    "    \n",
    "    # update data matrix on a row by row basis (choosing shuffled windows per row)\n",
    "    for iWindow in range(nWindows):\n",
    "        startIndex = shuffledWindowInds[iWindow] * advanceSamples\n",
    "        endIndex = startIndex + windowSize\n",
    "        \n",
    "        # flatten/interleave sensor values\n",
    "        for iSensor in range(nSensors):\n",
    "            outputMatrix[iWindow, iSensor::nSensors] = x[startIndex:endIndex, iSensor]\n",
    "    \n",
    "    return outputMatrix, shuffledWindowInds\n"
   ]
  },
  {
   "cell_type": "code",
   "execution_count": null,
   "metadata": {},
   "outputs": [],
   "source": [
    "trainMatrix, trainShuffledWindowInds = reshape_into_shuffled_data_windows(normalizedTrainData, hParams['windowSamples'], hParams['advanceSamples'])\n",
    "testMatrix, testShuffledWindowInds = reshape_into_shuffled_data_windows(normalizedTestData, hParams['windowSamples'], hParams['advanceSamples'])\n",
    "\n",
    "viz_flag = 1\n",
    "if viz_flag:\n",
    "    plt.figure()\n",
    "    plt.plot(trainMatrix[200,:])\n"
   ]
  },
  {
   "cell_type": "code",
   "execution_count": null,
   "metadata": {},
   "outputs": [],
   "source": [
    "trainMatrix.shape"
   ]
  },
  {
   "cell_type": "code",
   "execution_count": null,
   "metadata": {},
   "outputs": [],
   "source": [
    "testMatrix.shape"
   ]
  },
  {
   "cell_type": "markdown",
   "metadata": {},
   "source": [
    "# ML/DL Imports"
   ]
  },
  {
   "cell_type": "code",
   "execution_count": null,
   "metadata": {},
   "outputs": [],
   "source": [
    "from keras.models import Sequential, Model\n",
    "from keras.layers import Dense\n",
    "from keras import metrics\n",
    "from keras.callbacks import EarlyStopping\n",
    "from keras.callbacks import ModelCheckpoint"
   ]
  },
  {
   "cell_type": "markdown",
   "metadata": {},
   "source": [
    "# Model definition"
   ]
  },
  {
   "cell_type": "code",
   "execution_count": null,
   "metadata": {
    "collapsed": true
   },
   "outputs": [],
   "source": [
    "hParams['inputOutputDimensionality'] = int( hParams['windowSamples'] * hParams['nSensors'] ) \n",
    "assert hParams['inputOutputDimensionality'] == trainMatrix.shape[1]"
   ]
  },
  {
   "cell_type": "code",
   "execution_count": null,
   "metadata": {},
   "outputs": [],
   "source": [
    "# Define model\n",
    "model = Sequential()\n",
    "model.add( Dense( 15, input_dim = hParams['inputOutputDimensionality'], activation = 'linear'))\n",
    "model.add( Dense( hParams['bottleNeckUnits'], activation = 'sigmoid'))\n",
    "model.add( Dense( 15, activation = 'sigmoid'))\n",
    "model.add( Dense( hParams['inputOutputDimensionality'], activation = 'linear',))\n",
    "model.summary()"
   ]
  },
  {
   "cell_type": "code",
   "execution_count": null,
   "metadata": {},
   "outputs": [],
   "source": [
    "import nnViz\n",
    "plt.figure()\n",
    "nnViz.visualize_model(model)"
   ]
  },
  {
   "cell_type": "code",
   "execution_count": null,
   "metadata": {
    "collapsed": true
   },
   "outputs": [],
   "source": [
    "model.compile(optimizer = 'adam', loss = 'mse')"
   ]
  },
  {
   "cell_type": "code",
   "execution_count": null,
   "metadata": {
    "scrolled": true
   },
   "outputs": [],
   "source": [
    "early_stopping = EarlyStopping( monitor = 'val_loss', patience = 10)\n",
    "checkpointer = ModelCheckpoint( filepath = 'synthetic_sin_weights_2.hdf5', verbose=1, save_best_only = True)\n",
    "\n",
    "'''\n",
    "# keras version 2+\n",
    "history = model.fit( trainMatrix, trainMatrix,\n",
    "               batch_size = 256, epochs = 200,\n",
    "               shuffle = True,\n",
    "               callbacks = [early_stopping, checkpointer],\n",
    "               validation_data = (testMatrix, testMatrix) )\n",
    "'''\n",
    "\n",
    "# keras version 1.2\n",
    "history = model.fit( trainMatrix, trainMatrix,\n",
    "               batch_size = 256, nb_epoch = 200,\n",
    "               shuffle = True,\n",
    "               callbacks = [early_stopping, checkpointer],\n",
    "               validation_data = (testMatrix, testMatrix) )"
   ]
  },
  {
   "cell_type": "code",
   "execution_count": null,
   "metadata": {},
   "outputs": [],
   "source": [
    "plt.figure()\n",
    "plt.plot( history.history['loss'] )\n",
    "plt.plot( history.history['val_loss'] )"
   ]
  },
  {
   "cell_type": "markdown",
   "metadata": {},
   "source": [
    "# Load best model weights"
   ]
  },
  {
   "cell_type": "code",
   "execution_count": null,
   "metadata": {
    "collapsed": true
   },
   "outputs": [],
   "source": [
    "model.load_weights(\"synthetic_sin_weights_2.hdf5\")\n",
    "model.compile(optimizer = 'adam', loss = 'mse') # need to recompile model to be able to run prediction"
   ]
  },
  {
   "cell_type": "markdown",
   "metadata": {},
   "source": [
    "# Plot raw vs predicted "
   ]
  },
  {
   "cell_type": "code",
   "execution_count": null,
   "metadata": {
    "collapsed": true
   },
   "outputs": [],
   "source": [
    "def windowed_predict(data, windowSize):    \n",
    "    nWindows = int( data.size / (windowSize*1.0) )\n",
    "    print('number of windows: ' + str(nWindows))\n",
    "    predicted = np.zeros((data.shape[0], data.shape[1]))\n",
    "    \n",
    "    for iWindow in range(nWindows):\n",
    "        dataStartIndex = int( iWindow * windowSize )\n",
    "        dataEndIndex = dataStartIndex + windowSize\n",
    "        \n",
    "        predictedWindow = model.predict( np.transpose( data[dataStartIndex:dataEndIndex]) )\n",
    "        predicted[dataStartIndex:dataEndIndex] = np.transpose(predictedWindow)\n",
    "        \n",
    "    return predicted"
   ]
  },
  {
   "cell_type": "code",
   "execution_count": null,
   "metadata": {
    "collapsed": true
   },
   "outputs": [],
   "source": []
  },
  {
   "cell_type": "markdown",
   "metadata": {},
   "source": [
    "# Inject Anomalies & Predict"
   ]
  },
  {
   "cell_type": "code",
   "execution_count": null,
   "metadata": {},
   "outputs": [],
   "source": [
    "anomalySignal1 = np.exp(np.linspace(0, 1.5, 1000)) - 1\n",
    "anomalySignal2 = np.cos(np.linspace(0,2*np.pi * 10, 1000))\n",
    "\n",
    "anomalySignal1 = np.expand_dims(anomalySignal1, axis=1)\n",
    "anomalySignal2 = np.expand_dims(anomalySignal2, axis=1)\n",
    "\n",
    "plt.figure()\n",
    "plt.plot(anomalySignal1)\n",
    "plt.plot(anomalySignal2)\n",
    "\n",
    "plt.legend(['anomaly signal 1', 'anomaly signal 2'])"
   ]
  },
  {
   "cell_type": "code",
   "execution_count": null,
   "metadata": {},
   "outputs": [],
   "source": [
    "startIndex = 0\n",
    "endIndex = 1000\n",
    "len(anomalySignal1)"
   ]
  },
  {
   "cell_type": "code",
   "execution_count": null,
   "metadata": {
    "collapsed": true
   },
   "outputs": [],
   "source": [
    "targetData = []\n",
    "targetData = np.concatenate( ( normalizedTestData[startIndex:endIndex], anomalySignal1, \\\n",
    "                               normalizedTestData[startIndex:endIndex], anomalySignal2 ) )\n",
    "\n",
    "anomalousInds_1 = np.arange(1000/hParams['windowSamples'], 2000/hParams['windowSamples'], dtype=int)\n",
    "anomalousInds_2 = np.arange(int(3000/hParams['windowSamples']), int(4000/hParams['windowSamples']), dtype=int)"
   ]
  },
  {
   "cell_type": "code",
   "execution_count": null,
   "metadata": {},
   "outputs": [],
   "source": [
    "predictedData = windowed_predict ( targetData, hParams['inputOutputDimensionality'])\n",
    "error = np.sqrt((targetData - predictedData)**2)"
   ]
  },
  {
   "cell_type": "code",
   "execution_count": null,
   "metadata": {},
   "outputs": [],
   "source": [
    "plt.figure(figsize=(10,10))\n",
    "\n",
    "ax1 = plt.subplot2grid((4, 1), (0, 0), rowspan=3)\n",
    "ax2 = plt.subplot2grid((4, 1), (3, 0), rowspan=1)\n",
    "\n",
    "ax1.plot(targetData)\n",
    "ax1.plot(predictedData, 'rx')\n",
    "ax1.set_title('actual vs predicted')\n",
    "ax1.legend(['actual', 'predicted'])\n",
    "\n",
    "ax2.plot(error)\n",
    "ax2.set_title('error over time -- avg error: ' + str(round(np.mean(error),4)))"
   ]
  },
  {
   "cell_type": "markdown",
   "metadata": {},
   "source": [
    "## Remove last two layers [ focus on bottleneck activations ]"
   ]
  },
  {
   "cell_type": "code",
   "execution_count": null,
   "metadata": {},
   "outputs": [],
   "source": [
    "print(len(model.layers))"
   ]
  },
  {
   "cell_type": "code",
   "execution_count": null,
   "metadata": {
    "collapsed": true
   },
   "outputs": [],
   "source": [
    "model.pop()\n",
    "model.pop()"
   ]
  },
  {
   "cell_type": "code",
   "execution_count": null,
   "metadata": {},
   "outputs": [],
   "source": [
    "print(len(model.layers))"
   ]
  },
  {
   "cell_type": "code",
   "execution_count": null,
   "metadata": {},
   "outputs": [],
   "source": [
    "import nnViz\n",
    "plt.figure()\n",
    "nnViz.visualize_model(model)"
   ]
  },
  {
   "cell_type": "code",
   "execution_count": null,
   "metadata": {
    "collapsed": true
   },
   "outputs": [],
   "source": [
    "model.compile(optimizer = 'adam', loss = 'mse')"
   ]
  },
  {
   "cell_type": "markdown",
   "metadata": {},
   "source": [
    "#TODO : no overlaps"
   ]
  },
  {
   "cell_type": "code",
   "execution_count": null,
   "metadata": {
    "collapsed": true
   },
   "outputs": [],
   "source": [
    "def windowed_predict_bottleneck_activation (data, windowSize, bottleneckSize):    \n",
    "    nWindows = int( data.size / (windowSize*1.0) )\n",
    "    print('number of windows: ' + str(nWindows))\n",
    "    predicted = np.zeros((nWindows, bottleneckSize))\n",
    "    \n",
    "    for iWindow in range(nWindows):\n",
    "        dataStartIndex = int( iWindow * windowSize )\n",
    "        dataEndIndex = dataStartIndex + windowSize\n",
    "        \n",
    "        predictedWindow = model.predict( np.transpose( data[dataStartIndex:dataEndIndex]) )\n",
    "        predicted[iWindow, :] = predictedWindow[0]\n",
    "        \n",
    "        \n",
    "    return predicted"
   ]
  },
  {
   "cell_type": "code",
   "execution_count": null,
   "metadata": {},
   "outputs": [],
   "source": [
    "bottleNeckSize = hParams['bottleNeckUnits'] #model.layers[-1].get_config()['units']\n",
    "bottleneckActivations = windowed_predict_bottleneck_activation (targetData, hParams['inputOutputDimensionality'], bottleNeckSize)"
   ]
  },
  {
   "cell_type": "code",
   "execution_count": null,
   "metadata": {},
   "outputs": [],
   "source": [
    "from sklearn.manifold import TSNE\n",
    "\n",
    "embeddedBottleneckActivations = TSNE(n_components = 2, perplexity = 10, learning_rate = 100, method='exact', verbose = 1).fit_transform(bottleneckActivations)"
   ]
  },
  {
   "cell_type": "code",
   "execution_count": null,
   "metadata": {},
   "outputs": [],
   "source": [
    "plt.figure()\n",
    "plt.plot(embeddedBottleneckActivations[:,0], embeddedBottleneckActivations[:,1], 'bx')\n",
    "plt.plot(embeddedBottleneckActivations[anomalousInds_1,0], embeddedBottleneckActivations[anomalousInds_1,1], 'rx')\n",
    "plt.plot(embeddedBottleneckActivations[anomalousInds_2,0], embeddedBottleneckActivations[anomalousInds_2,1], 'ko')\n"
   ]
  },
  {
   "cell_type": "code",
   "execution_count": null,
   "metadata": {
    "collapsed": true
   },
   "outputs": [],
   "source": [
    "from sklearn.decomposition import PCA\n",
    "from sklearn.discriminant_analysis import LinearDiscriminantAnalysis\n",
    "pca = PCA(n_components = 3)\n",
    "PCA_bottleneckActivations = pca.fit_transform(bottleneckActivations)"
   ]
  },
  {
   "cell_type": "code",
   "execution_count": null,
   "metadata": {},
   "outputs": [],
   "source": [
    "from mpl_toolkits.mplot3d import Axes3D\n",
    "fig = plt.figure()\n",
    "ax = fig.add_subplot(111, projection='3d')\n",
    "\n",
    "ax.scatter(PCA_bottleneckActivations[:, 0], PCA_bottleneckActivations[:,1], PCA_bottleneckActivations[:,2], color='b', s=5)\n",
    "ax.scatter(PCA_bottleneckActivations[anomalousInds_1, 0], PCA_bottleneckActivations[anomalousInds_1, 1], PCA_bottleneckActivations[anomalousInds_1, 2], color='r', s=10)\n",
    "ax.scatter(PCA_bottleneckActivations[anomalousInds_2, 0], PCA_bottleneckActivations[anomalousInds_2, 1], PCA_bottleneckActivations[anomalousInds_2, 2], color='g')"
   ]
  },
  {
   "cell_type": "code",
   "execution_count": null,
   "metadata": {
    "collapsed": true
   },
   "outputs": [],
   "source": [
    "import numpy as np\n",
    "import matplotlib\n",
    "import matplotlib.pyplot as plt"
   ]
  },
  {
   "cell_type": "code",
   "execution_count": null,
   "metadata": {
    "collapsed": true
   },
   "outputs": [],
   "source": [
    "!sudo pip3 install mpld3"
   ]
  },
  {
   "cell_type": "code",
   "execution_count": null,
   "metadata": {
    "collapsed": true
   },
   "outputs": [],
   "source": [
    "import mpld3\n",
    "from mpld3 import plugins, utils"
   ]
  },
  {
   "cell_type": "code",
   "execution_count": null,
   "metadata": {},
   "outputs": [],
   "source": [
    "%matplotlib ipympl\n",
    "# https://github.com/matplotlib/jupyter-matplotlib"
   ]
  },
  {
   "cell_type": "code",
   "execution_count": null,
   "metadata": {
    "collapsed": true
   },
   "outputs": [],
   "source": [
    "import matplotlib.pyplot as plt\n",
    "import numpy as np"
   ]
  },
  {
   "cell_type": "code",
   "execution_count": null,
   "metadata": {},
   "outputs": [],
   "source": [
    "fig = plt.figure(figsize=(10,10))\n",
    "plt.subplots_adjust( left = 0.05, right = 0.95, top = 0.95, bottom = 0.05, wspace = 0.1 )\n",
    "ax1 = plt.subplot( 2, 1, 1 )\n",
    "\n",
    "ax1.plot( range(len(targetData)), targetData, color=(.2,.2,.2), picker = 1 )\n",
    "\n",
    "ax2 = plt.subplot( 2, 1, 2 )\n",
    "ax2.plot ( PCA_bottleneckActivations[:,0], PCA_bottleneckActivations[:,1], 'o', picker = 2 )\n",
    "#ax2.scatter ( PCA_bottleneckActivations[:,0], PCA_bottleneckActivations[:,1], PCA_bottleneckActivations[:,2], picker = 2 )"
   ]
  },
  {
   "cell_type": "code",
   "execution_count": null,
   "metadata": {
    "collapsed": true
   },
   "outputs": [],
   "source": [
    "def updateRawPlot ( ind ):\n",
    "    print(' index range:  ' + str(int((ind-2)*30)) + ', '+ str(int((ind+2)*30)))\n",
    "    ax1.plot( list(range(int((ind-2)*30),int((ind+2)*30))), targetData[ int((ind-2)*30):int((ind+2)*30) ] )"
   ]
  },
  {
   "cell_type": "code",
   "execution_count": null,
   "metadata": {
    "collapsed": true
   },
   "outputs": [],
   "source": [
    "#ax.scatter(list(range(100)),np.random.rand(100))#, 'o', picker=5)  # 5 points tolerance\n",
    "#ax.plot(np.random.rand(100), 'o', picker=5)  # 5 points toleranc\n",
    "def on_pick(event):\n",
    "    if event.mouseevent.inaxes == ax2:          \n",
    "        eventArtist = event.artist\n",
    "        #xdata, ydata = eventArtist.get_data()\n",
    "        ind = event.ind\n",
    "        updateRawPlot( ind )\n",
    "        #print('on pick line:', ind, np.array([xdata[ind], ydata[ind]]).T)\n",
    "    \n",
    "cid = fig.canvas.mpl_connect('pick_event', on_pick)\n",
    "#plt.show()"
   ]
  },
  {
   "cell_type": "code",
   "execution_count": null,
   "metadata": {
    "collapsed": true
   },
   "outputs": [],
   "source": []
  }
 ],
 "metadata": {
  "anaconda-cloud": {},
  "kernelspec": {
   "display_name": "Python 3",
   "language": "python",
   "name": "python3"
  },
  "language_info": {
   "codemirror_mode": {
    "name": "ipython",
    "version": 3
   },
   "file_extension": ".py",
   "mimetype": "text/x-python",
   "name": "python",
   "nbconvert_exporter": "python",
   "pygments_lexer": "ipython3",
   "version": "3.5.3"
  }
 },
 "nbformat": 4,
 "nbformat_minor": 2
}
